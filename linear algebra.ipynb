{
 "cells": [
  {
   "cell_type": "code",
   "execution_count": 1,
   "metadata": {},
   "outputs": [
    {
     "name": "stdout",
     "output_type": "stream",
     "text": [
      "{'data': array([[5.1, 3.5, 1.4, 0.2],\n",
      "       [4.9, 3. , 1.4, 0.2],\n",
      "       [4.7, 3.2, 1.3, 0.2],\n",
      "       [4.6, 3.1, 1.5, 0.2],\n",
      "       [5. , 3.6, 1.4, 0.2],\n",
      "       [5.4, 3.9, 1.7, 0.4],\n",
      "       [4.6, 3.4, 1.4, 0.3],\n",
      "       [5. , 3.4, 1.5, 0.2],\n",
      "       [4.4, 2.9, 1.4, 0.2],\n",
      "       [4.9, 3.1, 1.5, 0.1],\n",
      "       [5.4, 3.7, 1.5, 0.2],\n",
      "       [4.8, 3.4, 1.6, 0.2],\n",
      "       [4.8, 3. , 1.4, 0.1],\n",
      "       [4.3, 3. , 1.1, 0.1],\n",
      "       [5.8, 4. , 1.2, 0.2],\n",
      "       [5.7, 4.4, 1.5, 0.4],\n",
      "       [5.4, 3.9, 1.3, 0.4],\n",
      "       [5.1, 3.5, 1.4, 0.3],\n",
      "       [5.7, 3.8, 1.7, 0.3],\n",
      "       [5.1, 3.8, 1.5, 0.3],\n",
      "       [5.4, 3.4, 1.7, 0.2],\n",
      "       [5.1, 3.7, 1.5, 0.4],\n",
      "       [4.6, 3.6, 1. , 0.2],\n",
      "       [5.1, 3.3, 1.7, 0.5],\n",
      "       [4.8, 3.4, 1.9, 0.2],\n",
      "       [5. , 3. , 1.6, 0.2],\n",
      "       [5. , 3.4, 1.6, 0.4],\n",
      "       [5.2, 3.5, 1.5, 0.2],\n",
      "       [5.2, 3.4, 1.4, 0.2],\n",
      "       [4.7, 3.2, 1.6, 0.2],\n",
      "       [4.8, 3.1, 1.6, 0.2],\n",
      "       [5.4, 3.4, 1.5, 0.4],\n",
      "       [5.2, 4.1, 1.5, 0.1],\n",
      "       [5.5, 4.2, 1.4, 0.2],\n",
      "       [4.9, 3.1, 1.5, 0.2],\n",
      "       [5. , 3.2, 1.2, 0.2],\n",
      "       [5.5, 3.5, 1.3, 0.2],\n",
      "       [4.9, 3.6, 1.4, 0.1],\n",
      "       [4.4, 3. , 1.3, 0.2],\n",
      "       [5.1, 3.4, 1.5, 0.2],\n",
      "       [5. , 3.5, 1.3, 0.3],\n",
      "       [4.5, 2.3, 1.3, 0.3],\n",
      "       [4.4, 3.2, 1.3, 0.2],\n",
      "       [5. , 3.5, 1.6, 0.6],\n",
      "       [5.1, 3.8, 1.9, 0.4],\n",
      "       [4.8, 3. , 1.4, 0.3],\n",
      "       [5.1, 3.8, 1.6, 0.2],\n",
      "       [4.6, 3.2, 1.4, 0.2],\n",
      "       [5.3, 3.7, 1.5, 0.2],\n",
      "       [5. , 3.3, 1.4, 0.2],\n",
      "       [7. , 3.2, 4.7, 1.4],\n",
      "       [6.4, 3.2, 4.5, 1.5],\n",
      "       [6.9, 3.1, 4.9, 1.5],\n",
      "       [5.5, 2.3, 4. , 1.3],\n",
      "       [6.5, 2.8, 4.6, 1.5],\n",
      "       [5.7, 2.8, 4.5, 1.3],\n",
      "       [6.3, 3.3, 4.7, 1.6],\n",
      "       [4.9, 2.4, 3.3, 1. ],\n",
      "       [6.6, 2.9, 4.6, 1.3],\n",
      "       [5.2, 2.7, 3.9, 1.4],\n",
      "       [5. , 2. , 3.5, 1. ],\n",
      "       [5.9, 3. , 4.2, 1.5],\n",
      "       [6. , 2.2, 4. , 1. ],\n",
      "       [6.1, 2.9, 4.7, 1.4],\n",
      "       [5.6, 2.9, 3.6, 1.3],\n",
      "       [6.7, 3.1, 4.4, 1.4],\n",
      "       [5.6, 3. , 4.5, 1.5],\n",
      "       [5.8, 2.7, 4.1, 1. ],\n",
      "       [6.2, 2.2, 4.5, 1.5],\n",
      "       [5.6, 2.5, 3.9, 1.1],\n",
      "       [5.9, 3.2, 4.8, 1.8],\n",
      "       [6.1, 2.8, 4. , 1.3],\n",
      "       [6.3, 2.5, 4.9, 1.5],\n",
      "       [6.1, 2.8, 4.7, 1.2],\n",
      "       [6.4, 2.9, 4.3, 1.3],\n",
      "       [6.6, 3. , 4.4, 1.4],\n",
      "       [6.8, 2.8, 4.8, 1.4],\n",
      "       [6.7, 3. , 5. , 1.7],\n",
      "       [6. , 2.9, 4.5, 1.5],\n",
      "       [5.7, 2.6, 3.5, 1. ],\n",
      "       [5.5, 2.4, 3.8, 1.1],\n",
      "       [5.5, 2.4, 3.7, 1. ],\n",
      "       [5.8, 2.7, 3.9, 1.2],\n",
      "       [6. , 2.7, 5.1, 1.6],\n",
      "       [5.4, 3. , 4.5, 1.5],\n",
      "       [6. , 3.4, 4.5, 1.6],\n",
      "       [6.7, 3.1, 4.7, 1.5],\n",
      "       [6.3, 2.3, 4.4, 1.3],\n",
      "       [5.6, 3. , 4.1, 1.3],\n",
      "       [5.5, 2.5, 4. , 1.3],\n",
      "       [5.5, 2.6, 4.4, 1.2],\n",
      "       [6.1, 3. , 4.6, 1.4],\n",
      "       [5.8, 2.6, 4. , 1.2],\n",
      "       [5. , 2.3, 3.3, 1. ],\n",
      "       [5.6, 2.7, 4.2, 1.3],\n",
      "       [5.7, 3. , 4.2, 1.2],\n",
      "       [5.7, 2.9, 4.2, 1.3],\n",
      "       [6.2, 2.9, 4.3, 1.3],\n",
      "       [5.1, 2.5, 3. , 1.1],\n",
      "       [5.7, 2.8, 4.1, 1.3],\n",
      "       [6.3, 3.3, 6. , 2.5],\n",
      "       [5.8, 2.7, 5.1, 1.9],\n",
      "       [7.1, 3. , 5.9, 2.1],\n",
      "       [6.3, 2.9, 5.6, 1.8],\n",
      "       [6.5, 3. , 5.8, 2.2],\n",
      "       [7.6, 3. , 6.6, 2.1],\n",
      "       [4.9, 2.5, 4.5, 1.7],\n",
      "       [7.3, 2.9, 6.3, 1.8],\n",
      "       [6.7, 2.5, 5.8, 1.8],\n",
      "       [7.2, 3.6, 6.1, 2.5],\n",
      "       [6.5, 3.2, 5.1, 2. ],\n",
      "       [6.4, 2.7, 5.3, 1.9],\n",
      "       [6.8, 3. , 5.5, 2.1],\n",
      "       [5.7, 2.5, 5. , 2. ],\n",
      "       [5.8, 2.8, 5.1, 2.4],\n",
      "       [6.4, 3.2, 5.3, 2.3],\n",
      "       [6.5, 3. , 5.5, 1.8],\n",
      "       [7.7, 3.8, 6.7, 2.2],\n",
      "       [7.7, 2.6, 6.9, 2.3],\n",
      "       [6. , 2.2, 5. , 1.5],\n",
      "       [6.9, 3.2, 5.7, 2.3],\n",
      "       [5.6, 2.8, 4.9, 2. ],\n",
      "       [7.7, 2.8, 6.7, 2. ],\n",
      "       [6.3, 2.7, 4.9, 1.8],\n",
      "       [6.7, 3.3, 5.7, 2.1],\n",
      "       [7.2, 3.2, 6. , 1.8],\n",
      "       [6.2, 2.8, 4.8, 1.8],\n",
      "       [6.1, 3. , 4.9, 1.8],\n",
      "       [6.4, 2.8, 5.6, 2.1],\n",
      "       [7.2, 3. , 5.8, 1.6],\n",
      "       [7.4, 2.8, 6.1, 1.9],\n",
      "       [7.9, 3.8, 6.4, 2. ],\n",
      "       [6.4, 2.8, 5.6, 2.2],\n",
      "       [6.3, 2.8, 5.1, 1.5],\n",
      "       [6.1, 2.6, 5.6, 1.4],\n",
      "       [7.7, 3. , 6.1, 2.3],\n",
      "       [6.3, 3.4, 5.6, 2.4],\n",
      "       [6.4, 3.1, 5.5, 1.8],\n",
      "       [6. , 3. , 4.8, 1.8],\n",
      "       [6.9, 3.1, 5.4, 2.1],\n",
      "       [6.7, 3.1, 5.6, 2.4],\n",
      "       [6.9, 3.1, 5.1, 2.3],\n",
      "       [5.8, 2.7, 5.1, 1.9],\n",
      "       [6.8, 3.2, 5.9, 2.3],\n",
      "       [6.7, 3.3, 5.7, 2.5],\n",
      "       [6.7, 3. , 5.2, 2.3],\n",
      "       [6.3, 2.5, 5. , 1.9],\n",
      "       [6.5, 3. , 5.2, 2. ],\n",
      "       [6.2, 3.4, 5.4, 2.3],\n",
      "       [5.9, 3. , 5.1, 1.8]]), 'target': array([0, 0, 0, 0, 0, 0, 0, 0, 0, 0, 0, 0, 0, 0, 0, 0, 0, 0, 0, 0, 0, 0,\n",
      "       0, 0, 0, 0, 0, 0, 0, 0, 0, 0, 0, 0, 0, 0, 0, 0, 0, 0, 0, 0, 0, 0,\n",
      "       0, 0, 0, 0, 0, 0, 1, 1, 1, 1, 1, 1, 1, 1, 1, 1, 1, 1, 1, 1, 1, 1,\n",
      "       1, 1, 1, 1, 1, 1, 1, 1, 1, 1, 1, 1, 1, 1, 1, 1, 1, 1, 1, 1, 1, 1,\n",
      "       1, 1, 1, 1, 1, 1, 1, 1, 1, 1, 1, 1, 2, 2, 2, 2, 2, 2, 2, 2, 2, 2,\n",
      "       2, 2, 2, 2, 2, 2, 2, 2, 2, 2, 2, 2, 2, 2, 2, 2, 2, 2, 2, 2, 2, 2,\n",
      "       2, 2, 2, 2, 2, 2, 2, 2, 2, 2, 2, 2, 2, 2, 2, 2, 2, 2]), 'target_names': array(['setosa', 'versicolor', 'virginica'], dtype='<U10'), 'DESCR': '.. _iris_dataset:\\n\\nIris plants dataset\\n--------------------\\n\\n**Data Set Characteristics:**\\n\\n    :Number of Instances: 150 (50 in each of three classes)\\n    :Number of Attributes: 4 numeric, predictive attributes and the class\\n    :Attribute Information:\\n        - sepal length in cm\\n        - sepal width in cm\\n        - petal length in cm\\n        - petal width in cm\\n        - class:\\n                - Iris-Setosa\\n                - Iris-Versicolour\\n                - Iris-Virginica\\n                \\n    :Summary Statistics:\\n\\n    ============== ==== ==== ======= ===== ====================\\n                    Min  Max   Mean    SD   Class Correlation\\n    ============== ==== ==== ======= ===== ====================\\n    sepal length:   4.3  7.9   5.84   0.83    0.7826\\n    sepal width:    2.0  4.4   3.05   0.43   -0.4194\\n    petal length:   1.0  6.9   3.76   1.76    0.9490  (high!)\\n    petal width:    0.1  2.5   1.20   0.76    0.9565  (high!)\\n    ============== ==== ==== ======= ===== ====================\\n\\n    :Missing Attribute Values: None\\n    :Class Distribution: 33.3% for each of 3 classes.\\n    :Creator: R.A. Fisher\\n    :Donor: Michael Marshall (MARSHALL%PLU@io.arc.nasa.gov)\\n    :Date: July, 1988\\n\\nThe famous Iris database, first used by Sir R.A. Fisher. The dataset is taken\\nfrom Fisher\\'s paper. Note that it\\'s the same as in R, but not as in the UCI\\nMachine Learning Repository, which has two wrong data points.\\n\\nThis is perhaps the best known database to be found in the\\npattern recognition literature.  Fisher\\'s paper is a classic in the field and\\nis referenced frequently to this day.  (See Duda & Hart, for example.)  The\\ndata set contains 3 classes of 50 instances each, where each class refers to a\\ntype of iris plant.  One class is linearly separable from the other 2; the\\nlatter are NOT linearly separable from each other.\\n\\n.. topic:: References\\n\\n   - Fisher, R.A. \"The use of multiple measurements in taxonomic problems\"\\n     Annual Eugenics, 7, Part II, 179-188 (1936); also in \"Contributions to\\n     Mathematical Statistics\" (John Wiley, NY, 1950).\\n   - Duda, R.O., & Hart, P.E. (1973) Pattern Classification and Scene Analysis.\\n     (Q327.D83) John Wiley & Sons.  ISBN 0-471-22361-1.  See page 218.\\n   - Dasarathy, B.V. (1980) \"Nosing Around the Neighborhood: A New System\\n     Structure and Classification Rule for Recognition in Partially Exposed\\n     Environments\".  IEEE Transactions on Pattern Analysis and Machine\\n     Intelligence, Vol. PAMI-2, No. 1, 67-71.\\n   - Gates, G.W. (1972) \"The Reduced Nearest Neighbor Rule\".  IEEE Transactions\\n     on Information Theory, May 1972, 431-433.\\n   - See also: 1988 MLC Proceedings, 54-64.  Cheeseman et al\"s AUTOCLASS II\\n     conceptual clustering system finds 3 classes in the data.\\n   - Many, many more ...', 'feature_names': ['sepal length (cm)', 'sepal width (cm)', 'petal length (cm)', 'petal width (cm)'], 'filename': 'C:\\\\Users\\\\my\\\\Anaconda3\\\\lib\\\\site-packages\\\\sklearn\\\\datasets\\\\data\\\\iris.csv'}\n"
     ]
    }
   ],
   "source": [
    "# iris dataset 불러오는 법\n",
    "\n",
    "%matplotlib inline\n",
    "from sklearn.datasets import load_iris\n",
    "\n",
    "# dictionary를 반환하고, 'data'라는 key에 iris dataset numpy array가 들어있음\n",
    "iris = load_iris()\n",
    "print(iris)"
   ]
  },
  {
   "cell_type": "code",
   "execution_count": 2,
   "metadata": {},
   "outputs": [
    {
     "name": "stdout",
     "output_type": "stream",
     "text": [
      "[5.1 3.5 1.4 0.2] \n",
      " <class 'numpy.ndarray'>\n"
     ]
    }
   ],
   "source": [
    "# iris dataset의 첫번째 데이터 출력\n",
    "\n",
    "x2 = iris['data'][0]\n",
    "print(x2, \"\\n\", type(x2))"
   ]
  },
  {
   "cell_type": "code",
   "execution_count": 3,
   "metadata": {},
   "outputs": [
    {
     "name": "stdout",
     "output_type": "stream",
     "text": [
      "[[ 0.  0.  5. 13.  9.  1.  0.  0.]\n",
      " [ 0.  0. 13. 15. 10. 15.  5.  0.]\n",
      " [ 0.  3. 15.  2.  0. 11.  8.  0.]\n",
      " [ 0.  4. 12.  0.  0.  8.  8.  0.]\n",
      " [ 0.  5.  8.  0.  0.  9.  8.  0.]\n",
      " [ 0.  4. 11.  0.  1. 12.  7.  0.]\n",
      " [ 0.  2. 14.  5. 10. 12.  0.  0.]\n",
      " [ 0.  0.  6. 13. 10.  0.  0.  0.]] \n",
      "\n",
      "[array([[ 0.,  0.,  5., 13.,  9.,  1.,  0.,  0.],\n",
      "       [ 0.,  0., 13., 15., 10., 15.,  5.,  0.],\n",
      "       [ 0.,  3., 15.,  2.,  0., 11.,  8.,  0.],\n",
      "       [ 0.,  4., 12.,  0.,  0.,  8.,  8.,  0.],\n",
      "       [ 0.,  5.,  8.,  0.,  0.,  9.,  8.,  0.],\n",
      "       [ 0.,  4., 11.,  0.,  1., 12.,  7.,  0.],\n",
      "       [ 0.,  2., 14.,  5., 10., 12.,  0.,  0.],\n",
      "       [ 0.,  0.,  6., 13., 10.,  0.,  0.,  0.]]), array([[ 0.,  0.,  1.,  9., 15., 11.,  0.,  0.],\n",
      "       [ 0.,  0., 11., 16.,  8., 14.,  6.,  0.],\n",
      "       [ 0.,  2., 16., 10.,  0.,  9.,  9.,  0.],\n",
      "       [ 0.,  1., 16.,  4.,  0.,  8.,  8.,  0.],\n",
      "       [ 0.,  4., 16.,  4.,  0.,  8.,  8.,  0.],\n",
      "       [ 0.,  1., 16.,  5.,  1., 11.,  3.,  0.],\n",
      "       [ 0.,  0., 12., 12., 10., 10.,  0.,  0.],\n",
      "       [ 0.,  0.,  1., 10., 13.,  3.,  0.,  0.]]), array([[ 0.,  0.,  3., 13., 11.,  7.,  0.,  0.],\n",
      "       [ 0.,  0., 11., 16., 16., 16.,  2.,  0.],\n",
      "       [ 0.,  4., 16.,  9.,  1., 14.,  2.,  0.],\n",
      "       [ 0.,  4., 16.,  0.,  0., 16.,  2.,  0.],\n",
      "       [ 0.,  0., 16.,  1.,  0., 12.,  8.,  0.],\n",
      "       [ 0.,  0., 15.,  9.,  0., 13.,  6.,  0.],\n",
      "       [ 0.,  0.,  9., 14.,  9., 14.,  1.,  0.],\n",
      "       [ 0.,  0.,  2., 12., 13.,  4.,  0.,  0.]]), array([[ 0.,  0., 10., 14., 11.,  3.,  0.,  0.],\n",
      "       [ 0.,  4., 16., 13.,  6., 14.,  1.,  0.],\n",
      "       [ 0.,  4., 16.,  2.,  0., 11.,  7.,  0.],\n",
      "       [ 0.,  8., 16.,  0.,  0., 10.,  5.,  0.],\n",
      "       [ 0.,  8., 16.,  0.,  0., 14.,  4.,  0.],\n",
      "       [ 0.,  8., 16.,  0.,  1., 16.,  1.,  0.],\n",
      "       [ 0.,  4., 16.,  1., 11., 15.,  0.,  0.],\n",
      "       [ 0.,  0., 11., 16., 12.,  3.,  0.,  0.]]), array([[ 0.,  0.,  0., 12., 13.,  5.,  0.,  0.],\n",
      "       [ 0.,  0.,  0., 11., 16.,  9.,  0.,  0.],\n",
      "       [ 0.,  0.,  3., 15., 16.,  6.,  0.,  0.],\n",
      "       [ 0.,  7., 15., 16., 16.,  2.,  0.,  0.],\n",
      "       [ 0.,  0.,  1., 16., 16.,  3.,  0.,  0.],\n",
      "       [ 0.,  0.,  1., 16., 16.,  6.,  0.,  0.],\n",
      "       [ 0.,  0.,  1., 16., 16.,  6.,  0.,  0.],\n",
      "       [ 0.,  0.,  0., 11., 16., 10.,  0.,  0.]]), array([[ 0.,  0.,  0.,  0., 14., 13.,  1.,  0.],\n",
      "       [ 0.,  0.,  0.,  5., 16., 16.,  2.,  0.],\n",
      "       [ 0.,  0.,  0., 14., 16., 12.,  0.,  0.],\n",
      "       [ 0.,  1., 10., 16., 16., 12.,  0.,  0.],\n",
      "       [ 0.,  3., 12., 14., 16.,  9.,  0.,  0.],\n",
      "       [ 0.,  0.,  0.,  5., 16., 15.,  0.,  0.],\n",
      "       [ 0.,  0.,  0.,  4., 16., 14.,  0.,  0.],\n",
      "       [ 0.,  0.,  0.,  1., 13., 16.,  1.,  0.]]), array([[ 0.,  0.,  0.,  2., 16., 16.,  2.,  0.],\n",
      "       [ 0.,  0.,  0.,  4., 16., 16.,  2.,  0.],\n",
      "       [ 0.,  1.,  4., 12., 16., 12.,  0.,  0.],\n",
      "       [ 0.,  7., 16., 16., 16., 12.,  0.,  0.],\n",
      "       [ 0.,  0.,  3., 10., 16., 14.,  0.,  0.],\n",
      "       [ 0.,  0.,  0.,  8., 16., 12.,  0.,  0.],\n",
      "       [ 0.,  0.,  0.,  6., 16., 16.,  2.,  0.],\n",
      "       [ 0.,  0.,  0.,  2., 12., 15.,  4.,  0.]]), array([[ 0.,  0.,  2., 13.,  8.,  0.,  0.,  0.],\n",
      "       [ 0.,  0.,  6., 16., 16.,  6.,  0.,  0.],\n",
      "       [ 0.,  0.,  5., 15., 13., 11.,  0.,  0.],\n",
      "       [ 0.,  0.,  0.,  7., 16., 15.,  0.,  0.],\n",
      "       [ 0.,  0.,  0.,  0.,  0., 14.,  3.,  0.],\n",
      "       [ 0.,  0.,  0.,  0.,  0.,  7., 11.,  0.],\n",
      "       [ 0.,  0.,  0.,  3.,  4.,  4., 16.,  2.],\n",
      "       [ 0.,  0.,  2., 15., 13., 14., 13.,  2.]])] \n",
      "\n"
     ]
    },
    {
     "data": {
      "image/png": "[encoded data removed]",
      "text/plain": [
       "<Figure size 576x144 with 8 Axes>"
      ]
     },
     "metadata": {},
     "output_type": "display_data"
    }
   ],
   "source": [
    "# mnist dataset 불러오기\n",
    "\n",
    "from sklearn.datasets import load_digits\n",
    "\n",
    "%matplotlib inline\n",
    "\n",
    "digits = load_digits()\n",
    "print(digits.images[0], \"\\n\")\n",
    "\n",
    "samples = [0, 10, 20, 30, 1, 11, 21, 31]\n",
    "selected_digits_data_in_second_array = []\n",
    "for i in range(8):\n",
    "    \n",
    "    selected_digits_data_in_second_array.append(digits.images[samples[i]])\n",
    "    \n",
    "print(selected_digits_data_in_second_array, \"\\n\")\n",
    "\n",
    "plt.figure(figsize = (8,2))\n",
    "\n",
    "for i in range(8):\n",
    "    \n",
    "    plt.subplot(1, 8, i+1)\n",
    "    plt.imshow(selected_digits_data_in_second_array[i], interpolation = \"nearest\", cmap = plt.cm.bone_r)\n",
    "    plt.grid(False)\n",
    "    plt.xticks([])\n",
    "    plt.yticks([])\n",
    "    plt.title(\"image {}\".format(i+1))\n",
    "    \n",
    "plt.suptitle(\"숫자 0과 1 이미지\")\n",
    "plt.tight_layout()\n",
    "plt.show()"
   ]
  },
  {
   "cell_type": "code",
   "execution_count": 4,
   "metadata": {},
   "outputs": [
    {
     "data": {
      "image/png": "[encoded data removed]",
      "text/plain": [
       "<Figure size 576x216 with 8 Axes>"
      ]
     },
     "metadata": {},
     "output_type": "display_data"
    }
   ],
   "source": [
    "# 위에서 출력된 6개 숫자 사진을 열벡터로 변환\n",
    "\n",
    "select_digits_data_in_vector = []\n",
    "for i in range(8):\n",
    "    \n",
    "    select_digits_data_in_vector.append(selected_digits_data_in_second_array[i].reshape(64, 1)) # 벡터화\n",
    "    \n",
    "plt.figure(figsize=(8, 3))\n",
    "\n",
    "for i in range(8):\n",
    "    \n",
    "    plt.subplot(1, 8, i + 1)\n",
    "    plt.imshow(select_digits_data_in_vector[i], aspect = 0.4, interpolation = \"nearest\", cmap = plt.cm.bone_r)\n",
    "    plt.grid(False)\n",
    "    plt.xticks([])\n",
    "    plt.yticks([])\n",
    "    plt.title(\"벡터 {}\".format(i+1))\n",
    "    \n",
    "plt.suptitle(\"벡터화된 이미지\", y = 1.05)\n",
    "plt.tight_layout(w_pad = 7)\n",
    "plt.show()"
   ]
  },
  {
   "cell_type": "code",
   "execution_count": 8,
   "metadata": {},
   "outputs": [
    {
     "name": "stdout",
     "output_type": "stream",
     "text": [
      "* plus :\n",
      "[10 12 14 16 18] <class 'numpy.ndarray'> \n",
      "\n",
      "* minus :\n",
      "[10 10 10 10 10] <class 'numpy.ndarray'>\n"
     ]
    }
   ],
   "source": [
    "# numpy array간의 더하기, 빼기 연산(벡터)\n",
    "\n",
    "x = np.array([10,11,12,13,14])\n",
    "y = np.array([0,1,2,3,4])\n",
    "\n",
    "print(\"* plus :\")\n",
    "print(x+y, type(x+y), \"\\n\")\n",
    "print(\"* minus :\")\n",
    "print(x-y, type(x-y))"
   ]
  },
  {
   "cell_type": "code",
   "execution_count": 11,
   "metadata": {},
   "outputs": [
    {
     "name": "stdout",
     "output_type": "stream",
     "text": [
      "* plus :\n",
      "[[15 26]\n",
      " [37 48]] <class 'numpy.ndarray'> (2, 2)\n"
     ]
    }
   ],
   "source": [
    "# numpy array간의 더하기 연산(행렬)\n",
    "\n",
    "x = np.array([[5,6],\n",
    "         [7,8]])\n",
    "\n",
    "y = np.array([[10, 20],\n",
    "             [30, 40]])\n",
    "\n",
    "print(\"* plus :\")\n",
    "print(x + y, type(x+y), np.shape(x+y))"
   ]
  },
  {
   "cell_type": "code",
   "execution_count": 13,
   "metadata": {},
   "outputs": [
    {
     "name": "stdout",
     "output_type": "stream",
     "text": [
      "* dot product :\n",
      "[[32]]\n"
     ]
    }
   ],
   "source": [
    "# numpy array간의 dot product연산\n",
    "\n",
    "x = np.array([[1],\n",
    "            [2],\n",
    "            [3]])\n",
    "\n",
    "y = np.array([[4],\n",
    "             [5],\n",
    "             [6]])\n",
    "\n",
    "# dot product가 제대로 실시되도록, 피연산자 중 한 개를 전치해야 한다.\n",
    "\n",
    "print(\"* dot product :\")\n",
    "print(np.dot(x.T, y))"
   ]
  },
  {
   "cell_type": "code",
   "execution_count": 1,
   "metadata": {},
   "outputs": [
    {
     "name": "stdout",
     "output_type": "stream",
     "text": [
      "[[870]]\n"
     ]
    }
   ],
   "source": [
    "# numpy array간의 dot product연산\n",
    "\n",
    "p = np.array([[100],\n",
    "             [80],\n",
    "             [50]])\n",
    "\n",
    "n = np.array([[3],\n",
    "            [4],\n",
    "            [5]])\n",
    "\n",
    "# 'dot()'메소드 대신 '@'기호를 사용할 수 있음\n",
    "result = n.T@p\n",
    "\n",
    "print(result)"
   ]
  },
  {
   "cell_type": "code",
   "execution_count": 8,
   "metadata": {},
   "outputs": [
    {
     "name": "stdout",
     "output_type": "stream",
     "text": [
      "* b :\n",
      "[4 5 6 7] \n",
      "\n",
      "* b shape :\n",
      "(4,) \n",
      "\n",
      "* b.T :\n",
      "[4 5 6 7] \n",
      "\n",
      "* b.T shape :\n",
      "(4,) \n",
      "\n",
      "* result :\n",
      "[22]\n"
     ]
    }
   ],
   "source": [
    "# 열벡터 요소 간의 가중치 합을 실시하는 방법\n",
    "\n",
    "a = np.array([[1],\n",
    "            [1],\n",
    "            [1],\n",
    "            [1]])\n",
    "b = np.array([4,5,6,7])\n",
    "\n",
    "print(\"* b :\")\n",
    "print(b, \"\\n\")\n",
    "\n",
    "print(\"* b shape :\")\n",
    "print(b.shape, \"\\n\")\n",
    "\n",
    "print(\"* b.T :\")\n",
    "print(b.T, \"\\n\")\n",
    "\n",
    "print(\"* b.T shape :\")\n",
    "print(b.T.shape, \"\\n\")\n",
    "\n",
    "result = b.T@a\n",
    "print(\"* result :\")\n",
    "print(result)"
   ]
  },
  {
   "cell_type": "code",
   "execution_count": 10,
   "metadata": {},
   "outputs": [
    {
     "name": "stdout",
     "output_type": "stream",
     "text": [
      "* one_vector :\n",
      "[1. 1. 1. 1. 1. 1. 1. 1. 1. 1. 1. 1. 1. 1. 1. 1. 1. 1. 1. 1. 1. 1. 1. 1.\n",
      " 1. 1. 1. 1. 1. 1. 1. 1. 1. 1. 1. 1. 1. 1. 1. 1. 1. 1. 1. 1. 1. 1. 1. 1.\n",
      " 1. 1. 1. 1. 1. 1. 1. 1. 1. 1. 1. 1. 1. 1. 1. 1. 1. 1. 1. 1. 1. 1. 1. 1.\n",
      " 1. 1. 1. 1. 1. 1. 1. 1. 1. 1. 1. 1. 1. 1. 1. 1. 1. 1. 1. 1. 1. 1. 1. 1.\n",
      " 1. 1. 1. 1. 1. 1. 1. 1. 1. 1. 1. 1. 1. 1. 1. 1. 1. 1. 1. 1. 1. 1. 1. 1.\n",
      " 1. 1. 1. 1. 1. 1. 1. 1. 1. 1. 1. 1. 1. 1. 1. 1. 1. 1. 1. 1. 1. 1. 1. 1.\n",
      " 1. 1. 1. 1. 1. 1.] \n",
      "\n",
      "* dot_product_result :\n",
      "150.0\n"
     ]
    }
   ],
   "source": [
    "# 일벡터 생성\n",
    "\n",
    "one_vector = np.ones(150)\n",
    "print(\"* one_vector :\")\n",
    "print(one_vector,\"\\n\")\n",
    "\n",
    "dot_product_result = one_vector.T @ one_vector\n",
    "print(\"* dot_product_result :\")\n",
    "print(dot_product_result)"
   ]
  },
  {
   "cell_type": "code",
   "execution_count": 11,
   "metadata": {},
   "outputs": [
    {
     "name": "stdout",
     "output_type": "stream",
     "text": [
      "* i :\n",
      "[[1. 0.]\n",
      " [0. 1.]] \n",
      "\n",
      "* result1 :\n",
      "[[1. 2.]\n",
      " [3. 4.]] \n",
      "\n",
      "* result2 :\n",
      "[[1. 2.]\n",
      " [3. 4.]]\n"
     ]
    }
   ],
   "source": [
    "# 단위행렬 생성\n",
    "\n",
    "i = np.eye(2)\n",
    "print(\"* i :\")\n",
    "print(i, \"\\n\")\n",
    "\n",
    "a = np.array([[1,2],\n",
    "             [3,4]])\n",
    "\n",
    "result1 = a @ i\n",
    "print(\"* result1 :\")\n",
    "print(result1, \"\\n\")\n",
    "\n",
    "result2 = i @ a\n",
    "print(\"* result2 :\")\n",
    "print(result2)\n",
    "\n"
   ]
  },
  {
   "cell_type": "code",
   "execution_count": 19,
   "metadata": {},
   "outputs": [
    {
     "name": "stdout",
     "output_type": "stream",
     "text": [
      "* first img tensor :\n",
      "[[0.3305785  0.30578512 0.3305785  ... 0.3966942  0.37190083 0.28512397]\n",
      " [0.32231405 0.32231405 0.29752067 ... 0.41322315 0.338843   0.2603306 ]\n",
      " [0.3264463  0.30991736 0.30578512 ... 0.40495867 0.36363637 0.27272728]\n",
      " ...\n",
      " [0.16115703 0.16528925 0.1570248  ... 0.14049587 0.1570248  0.16115703]\n",
      " [0.1570248  0.17768595 0.16115703 ... 0.14049587 0.1570248  0.1570248 ]\n",
      " [0.17768595 0.1694215  0.16528925 ... 0.1446281  0.15289256 0.15289256]] \n",
      "\n",
      "* second img tensor :\n",
      "[[0.5413223  0.58677685 0.6404959  ... 0.54545456 0.553719   0.55785125]\n",
      " [0.553719   0.61570245 0.6570248  ... 0.57438016 0.58264464 0.5785124 ]\n",
      " [0.5785124  0.6528926  0.677686   ... 0.57024795 0.60330576 0.59917355]\n",
      " ...\n",
      " [0.12809917 0.13636364 0.13636364 ... 0.09090909 0.11570248 0.10743801]\n",
      " [0.1322314  0.13636364 0.1322314  ... 0.09504132 0.11157025 0.10743801]\n",
      " [0.13636364 0.1322314  0.13636364 ... 0.09504132 0.11157025 0.11157025]] \n",
      "\n",
      "* composit img tensor :\n",
      "[[0.39380163 0.39008266 0.4235537  ... 0.44132233 0.4264463  0.36694217]\n",
      " [0.39173555 0.4103306  0.4053719  ... 0.46157023 0.4119835  0.35578513]\n",
      " [0.4020661  0.41280994 0.41735536 ... 0.45454544 0.4355372  0.37066114]\n",
      " ...\n",
      " [0.15123966 0.15661156 0.15082645 ... 0.12561983 0.14462811 0.14504132]\n",
      " [0.14958678 0.16528925 0.15247934 ... 0.1268595  0.14338844 0.14214876]\n",
      " [0.16528925 0.15826446 0.15661156 ... 0.12975207 0.14049587 0.14049587]] \n",
      "\n"
     ]
    },
    {
     "data": {
      "image/png": "[encoded data removed]",
      "text/plain": [
       "<Figure size 864x540 with 3 Axes>"
      ]
     },
     "metadata": {},
     "output_type": "display_data"
    }
   ],
   "source": [
    "# 얼굴 사진 합성하는 방법\n",
    "\n",
    "%matplotlib inline\n",
    "from sklearn.datasets import fetch_olivetti_faces\n",
    "\n",
    "faces = fetch_olivetti_faces()\n",
    "# print(faces.images, type(faces.images))\n",
    "\n",
    "print(\"* first img tensor :\")\n",
    "print(faces.images[6], \"\\n\")\n",
    "\n",
    "print(\"* second img tensor :\")\n",
    "print(faces.images[10], \"\\n\")\n",
    "\n",
    "new_face = (0.7 * faces.images[6]) + (0.3 * faces.images[10])\n",
    "print(\"* composit img tensor :\")\n",
    "print(new_face, \"\\n\")\n",
    "\n",
    "plt.figure(figsize = (12, 7.5))\n",
    "\n",
    "# 첫 번째 얼굴 사진\n",
    "plt.subplot(131)\n",
    "plt.imshow(faces.images[6], cmap = plt.cm.bone)\n",
    "plt.grid(False)\n",
    "plt.xticks([])\n",
    "plt.yticks([])\n",
    "plt.title('image 1: $x_1$')\n",
    "\n",
    "# 두 번째 얼굴 사진\n",
    "plt.subplot(132)\n",
    "plt.imshow(faces.images[10], cmap = plt.cm.bone)\n",
    "plt.grid(False)\n",
    "plt.xticks([])\n",
    "plt.yticks([])\n",
    "plt.title('image 2 : $x_2$')\n",
    "\n",
    "# 첫 번째 얼굴과 두 번째 얼굴 합성한 사진\n",
    "plt.subplot(133)\n",
    "plt.imshow(new_face, cmap = plt.cm.bone)\n",
    "plt.grid(False)\n",
    "plt.xticks([])\n",
    "plt.yticks([])\n",
    "plt.title('image 3 : $0.7x_1 + 0.3x_2$')\n",
    "\n",
    "plt.tight_layout()\n",
    "plt.show()"
   ]
  },
  {
   "cell_type": "code",
   "execution_count": 20,
   "metadata": {},
   "outputs": [
    {
     "name": "stdout",
     "output_type": "stream",
     "text": [
      "* a :\n",
      "[[1]\n",
      " [2]\n",
      " [3]] \n",
      "\n",
      "* a_transposed :\n",
      "[[1 2 3]] \n",
      "\n",
      "* b :\n",
      "[[1 2 3]\n",
      " [4 5 6]\n",
      " [7 8 9]] \n",
      "\n",
      "* result :\n",
      "[[228]]\n"
     ]
    }
   ],
   "source": [
    "# 이차형식(dot product 두 번 실시)\n",
    "\n",
    "a = np.array([[1], [2], [3]])\n",
    "print(\"* a :\")\n",
    "print(a ,\"\\n\")\n",
    "\n",
    "a_transposed = a.T\n",
    "print(\"* a_transposed :\")\n",
    "print(a_transposed, \"\\n\")\n",
    "\n",
    "b = np.array([[1], [2], [3], [4], [5], [6], [7], [8], [9]])\n",
    "b = b.reshape(-1, 3)\n",
    "print(\"* b :\")\n",
    "print(b ,\"\\n\")\n",
    "\n",
    "print(\"* result :\")\n",
    "print(a_transposed @ b @ a)"
   ]
  },
  {
   "cell_type": "code",
   "execution_count": 21,
   "metadata": {
    "scrolled": true
   },
   "outputs": [
    {
     "name": "stdout",
     "output_type": "stream",
     "text": [
      "* A :\n",
      "[-4 -3 -2 -1  0  1  2  3  4] \n",
      "\n",
      "* reshaped : \n",
      "[[-4 -3 -2]\n",
      " [-1  0  1]\n",
      " [ 2  3  4]] \n",
      "\n",
      "* result :\n",
      "7.745966692414834\n"
     ]
    }
   ],
   "source": [
    "# 행렬의 norm 구하는 방법\n",
    "\n",
    "A = np.arange(9) - 4\n",
    "print(\"* A :\")\n",
    "print(A, \"\\n\")\n",
    "\n",
    "A = A.reshape(-1,3)\n",
    "print(\"* reshaped : \")\n",
    "print(A, \"\\n\")\n",
    "\n",
    "print(\"* result :\")\n",
    "print(np.linalg.norm(A))"
   ]
  },
  {
   "cell_type": "code",
   "execution_count": 22,
   "metadata": {},
   "outputs": [
    {
     "name": "stdout",
     "output_type": "stream",
     "text": [
      "* test :\n",
      "[[1 2]\n",
      " [3 4]] \n",
      "\n",
      "* result :\n",
      "5\n"
     ]
    }
   ],
   "source": [
    "# 행렬의 대각합 구하는 방법\n",
    "\n",
    "test = np.array([[1,2],\n",
    "                [3,4]])\n",
    "print(\"* test :\")\n",
    "print(test, \"\\n\")\n",
    "\n",
    "print(\"* result :\")\n",
    "print(np.trace(test))"
   ]
  },
  {
   "cell_type": "code",
   "execution_count": 26,
   "metadata": {},
   "outputs": [
    {
     "name": "stdout",
     "output_type": "stream",
     "text": [
      "* A :\n",
      "[[1 2]\n",
      " [3 4]] \n",
      "\n",
      "* result :\n",
      "-2.0000000000000004\n"
     ]
    }
   ],
   "source": [
    "# 행렬식 구하는 방법\n",
    "\n",
    "A = np.array([[1,2], [3,4]])\n",
    "print(\"* A :\")\n",
    "print(A, \"\\n\")\n",
    "\n",
    "print(\"* result :\")\n",
    "print(np.linalg.det(A))"
   ]
  },
  {
   "cell_type": "markdown",
   "metadata": {},
   "source": [
    "* 2×2 행렬의 행렬식\n",
    "\n",
    "$$\n",
    "\\begin{align}\n",
    "\\det \\left( \\begin{bmatrix}a&b\\\\c&d\\end{bmatrix} \\right) = ad-bc\n",
    "\\end{align}\n",
    "$$\n",
    "\n",
    "* 3×3 행렬의 행렬식\n",
    "\n",
    "$$\n",
    "\\begin{align}\n",
    "\\det \\left( \\begin{bmatrix}a&b&c\\\\d&e&f\\\\g&h&i\\end{bmatrix} \\right) =aei+bfg+cdh-ceg-bdi-afh\n",
    "\\end{align}\n",
    "$$"
   ]
  },
  {
   "cell_type": "code",
   "execution_count": 29,
   "metadata": {},
   "outputs": [
    {
     "name": "stdout",
     "output_type": "stream",
     "text": [
      "* A :\n",
      "[[2 1]\n",
      " [1 2]] \n",
      "\n",
      "* A determinant :\n",
      "2.9999999999999996 \n",
      "\n",
      "* A inverse :\n",
      "[[ 0.66666667 -0.33333333]\n",
      " [-0.33333333  0.66666667]]\n"
     ]
    }
   ],
   "source": [
    "# 역행렬 구하는 방법\n",
    "\n",
    "A = np.array([[2,1],\n",
    "             [1,2]])\n",
    "print(\"* A :\")\n",
    "print(A, \"\\n\")\n",
    "\n",
    "A_det = np.linalg.det(A) \n",
    "print(\"* A determinant :\")\n",
    "print(A_det, \"\\n\")\n",
    "\n",
    "A_inverse = np.linalg.inv(A)\n",
    "print(\"* A inverse :\")\n",
    "print(A_inverse)"
   ]
  },
  {
   "cell_type": "markdown",
   "metadata": {},
   "source": [
    "$$ \n",
    "\\begin{align}\n",
    "A^{-1} = \\dfrac{1}{\\det (A)} C^T = \\dfrac{1}{\\det (A)} \n",
    "\\begin{bmatrix}\n",
    "C_{1,1} & \\cdots & C_{N,1}  \\\\\n",
    "\\vdots  & \\ddots & \\vdots   \\\\\n",
    "C_{1,N} & \\cdots & C_{N,N}  \\\\\n",
    "\\end{bmatrix}\n",
    "\\end{align}\n",
    "$$\n",
    "\n",
    "<br>\n",
    "<br>\n",
    "* 위 식을 통해, 주어진 행렬의 행렬식이 '0'이면 해당 행렬에 대한 역행렬이 존재하지 않음을 알 수 있음"
   ]
  },
  {
   "cell_type": "code",
   "execution_count": 34,
   "metadata": {},
   "outputs": [
    {
     "name": "stdout",
     "output_type": "stream",
     "text": [
      "* X(모집단) :\n",
      "[[6.3200e-03 1.8000e+01 2.3100e+00 ... 1.5300e+01 3.9690e+02 4.9800e+00]\n",
      " [2.7310e-02 0.0000e+00 7.0700e+00 ... 1.7800e+01 3.9690e+02 9.1400e+00]\n",
      " [2.7290e-02 0.0000e+00 7.0700e+00 ... 1.7800e+01 3.9283e+02 4.0300e+00]\n",
      " ...\n",
      " [6.0760e-02 0.0000e+00 1.1930e+01 ... 2.1000e+01 3.9690e+02 5.6400e+00]\n",
      " [1.0959e-01 0.0000e+00 1.1930e+01 ... 2.1000e+01 3.9345e+02 6.4800e+00]\n",
      " [4.7410e-02 0.0000e+00 1.1930e+01 ... 2.1000e+01 3.9690e+02 7.8800e+00]] \n",
      "\n",
      "* Y(모집단) :\n",
      "[24.  21.6 34.7 33.4 36.2 28.7 22.9 27.1 16.5 18.9 15.  18.9 21.7 20.4\n",
      " 18.2 19.9 23.1 17.5 20.2 18.2 13.6 19.6 15.2 14.5 15.6 13.9 16.6 14.8\n",
      " 18.4 21.  12.7 14.5 13.2 13.1 13.5 18.9 20.  21.  24.7 30.8 34.9 26.6\n",
      " 25.3 24.7 21.2 19.3 20.  16.6 14.4 19.4 19.7 20.5 25.  23.4 18.9 35.4\n",
      " 24.7 31.6 23.3 19.6 18.7 16.  22.2 25.  33.  23.5 19.4 22.  17.4 20.9\n",
      " 24.2 21.7 22.8 23.4 24.1 21.4 20.  20.8 21.2 20.3 28.  23.9 24.8 22.9\n",
      " 23.9 26.6 22.5 22.2 23.6 28.7 22.6 22.  22.9 25.  20.6 28.4 21.4 38.7\n",
      " 43.8 33.2 27.5 26.5 18.6 19.3 20.1 19.5 19.5 20.4 19.8 19.4 21.7 22.8\n",
      " 18.8 18.7 18.5 18.3 21.2 19.2 20.4 19.3 22.  20.3 20.5 17.3 18.8 21.4\n",
      " 15.7 16.2 18.  14.3 19.2 19.6 23.  18.4 15.6 18.1 17.4 17.1 13.3 17.8\n",
      " 14.  14.4 13.4 15.6 11.8 13.8 15.6 14.6 17.8 15.4 21.5 19.6 15.3 19.4\n",
      " 17.  15.6 13.1 41.3 24.3 23.3 27.  50.  50.  50.  22.7 25.  50.  23.8\n",
      " 23.8 22.3 17.4 19.1 23.1 23.6 22.6 29.4 23.2 24.6 29.9 37.2 39.8 36.2\n",
      " 37.9 32.5 26.4 29.6 50.  32.  29.8 34.9 37.  30.5 36.4 31.1 29.1 50.\n",
      " 33.3 30.3 34.6 34.9 32.9 24.1 42.3 48.5 50.  22.6 24.4 22.5 24.4 20.\n",
      " 21.7 19.3 22.4 28.1 23.7 25.  23.3 28.7 21.5 23.  26.7 21.7 27.5 30.1\n",
      " 44.8 50.  37.6 31.6 46.7 31.5 24.3 31.7 41.7 48.3 29.  24.  25.1 31.5\n",
      " 23.7 23.3 22.  20.1 22.2 23.7 17.6 18.5 24.3 20.5 24.5 26.2 24.4 24.8\n",
      " 29.6 42.8 21.9 20.9 44.  50.  36.  30.1 33.8 43.1 48.8 31.  36.5 22.8\n",
      " 30.7 50.  43.5 20.7 21.1 25.2 24.4 35.2 32.4 32.  33.2 33.1 29.1 35.1\n",
      " 45.4 35.4 46.  50.  32.2 22.  20.1 23.2 22.3 24.8 28.5 37.3 27.9 23.9\n",
      " 21.7 28.6 27.1 20.3 22.5 29.  24.8 22.  26.4 33.1 36.1 28.4 33.4 28.2\n",
      " 22.8 20.3 16.1 22.1 19.4 21.6 23.8 16.2 17.8 19.8 23.1 21.  23.8 23.1\n",
      " 20.4 18.5 25.  24.6 23.  22.2 19.3 22.6 19.8 17.1 19.4 22.2 20.7 21.1\n",
      " 19.5 18.5 20.6 19.  18.7 32.7 16.5 23.9 31.2 17.5 17.2 23.1 24.5 26.6\n",
      " 22.9 24.1 18.6 30.1 18.2 20.6 17.8 21.7 22.7 22.6 25.  19.9 20.8 16.8\n",
      " 21.9 27.5 21.9 23.1 50.  50.  50.  50.  50.  13.8 13.8 15.  13.9 13.3\n",
      " 13.1 10.2 10.4 10.9 11.3 12.3  8.8  7.2 10.5  7.4 10.2 11.5 15.1 23.2\n",
      "  9.7 13.8 12.7 13.1 12.5  8.5  5.   6.3  5.6  7.2 12.1  8.3  8.5  5.\n",
      " 11.9 27.9 17.2 27.5 15.  17.2 17.9 16.3  7.   7.2  7.5 10.4  8.8  8.4\n",
      " 16.7 14.2 20.8 13.4 11.7  8.3 10.2 10.9 11.   9.5 14.5 14.1 16.1 14.3\n",
      " 11.7 13.4  9.6  8.7  8.4 12.8 10.5 17.1 18.4 15.4 10.8 11.8 14.9 12.6\n",
      " 14.1 13.  13.4 15.2 16.1 17.8 14.9 14.1 12.7 13.5 14.9 20.  16.4 17.7\n",
      " 19.5 20.2 21.4 19.9 19.  19.1 19.1 20.1 19.9 19.6 23.2 29.8 13.8 13.3\n",
      " 16.7 12.  14.6 21.4 23.  23.7 25.  21.8 20.6 21.2 19.1 20.6 15.2  7.\n",
      "  8.1 13.6 20.1 21.8 24.5 23.1 19.7 18.3 21.2 17.5 16.8 22.4 20.6 23.9\n",
      " 22.  11.9] \n",
      "\n",
      "* x(표본) :\n",
      "[[6.320e-03 5.380e-01 6.575e+00 6.520e+01]\n",
      " [2.731e-02 4.690e-01 6.421e+00 7.890e+01]\n",
      " [2.729e-02 4.690e-01 7.185e+00 6.110e+01]\n",
      " [3.237e-02 4.580e-01 6.998e+00 4.580e+01]] \n",
      "\n",
      "* y(표본) :\n",
      "[24.  21.6 34.7 33.4] \n",
      "\n",
      "* 회귀계수 벡터 :\n",
      "[-3.12710043e+02 -1.15193942e+02  1.44996465e+01 -1.13259317e-01]\n"
     ]
    }
   ],
   "source": [
    "# boston 집값 dataset의 4개 데이터를 활용하여, 회귀식의 회귀계수 구하는 방법(matrix를 활용한 회귀계수 산출)\n",
    "\n",
    "from sklearn.datasets import load_boston\n",
    "boston = load_boston()\n",
    "\n",
    "X = boston.data\n",
    "print(\"* X(모집단) :\")\n",
    "print(X ,\"\\n\")\n",
    "\n",
    "Y = boston.target\n",
    "print(\"* Y(모집단) :\")\n",
    "print(Y, \"\\n\")\n",
    "\n",
    "# CRIM(범죄율), NOX(공기 오염도), RM(방 개수), AGE(오래된 정도)에 대한 4개의 데이터 레코드\n",
    "x = X[:4, [0, 4, 5, 6]]\n",
    "print(\"* x(표본) :\")\n",
    "print(x, \"\\n\")\n",
    "\n",
    "# 각 데이터 레코드에 대한 결과값(주택 가격) 4개\n",
    "y = Y[:4]\n",
    "print(\"* y(표본) :\")\n",
    "print(y, \"\\n\")\n",
    "\n",
    "# 회귀계수 구하는 방법 : 특징 행렬의 역행렬과 종속 변수에 대한 열벡터를 dot product실시\n",
    "coefficient_vector = np.linalg.inv(x) @ y\n",
    "print(\"* 회귀계수 벡터 :\")\n",
    "print(coefficient_vector)"
   ]
  },
  {
   "cell_type": "markdown",
   "metadata": {},
   "source": [
    "$$\n",
    "Xw = y\n",
    "$$\n",
    "\n",
    "$$ \n",
    "w = X^{-1} y  \n",
    "$$"
   ]
  },
  {
   "cell_type": "code",
   "execution_count": 35,
   "metadata": {},
   "outputs": [
    {
     "name": "stdout",
     "output_type": "stream",
     "text": [
      "* a :\n",
      "[[2 2]\n",
      " [2 1]] \n",
      "\n",
      "* b :\n",
      "[[8]\n",
      " [2]] \n",
      "\n",
      "* result\n",
      "(array([[-2.],\n",
      "       [ 6.]]), array([], dtype=float64), 2, array([3.56155281, 0.56155281]))\n"
     ]
    }
   ],
   "source": [
    "# 최소제곱법으로 회귀계수 구하기(방정식 개수와 해의 개수가 같을 때)\n",
    "'''\n",
    "\n",
    "2x + 2y = 8\n",
    "2x + y = 2\n",
    "\n",
    "x = -2, y = 6\n",
    "\n",
    "'''\n",
    "\n",
    "a = np.array([[2,2],\n",
    "             [2,1]])\n",
    "print(\"* a :\")\n",
    "print(a, \"\\n\")\n",
    "\n",
    "b = np.array([[8],[2]])\n",
    "print(\"* b :\")\n",
    "print(b, \"\\n\")\n",
    "\n",
    "result = np.linalg.lstsq(a,b)\n",
    "print(\"* result\")\n",
    "print(result)"
   ]
  },
  {
   "cell_type": "code",
   "execution_count": 38,
   "metadata": {},
   "outputs": [
    {
     "name": "stdout",
     "output_type": "stream",
     "text": [
      "* x :\n",
      "[[1 1 0]\n",
      " [0 1 1]\n",
      " [1 1 1]\n",
      " [1 1 2]] \n",
      "\n",
      "* y :\n",
      "[[2. ]\n",
      " [2. ]\n",
      " [3. ]\n",
      " [4.1]] \n",
      "\n",
      "* coefficient : \n",
      "[[1.03333333]\n",
      " [0.95      ]\n",
      " [1.05      ]] \n",
      "\n",
      "* residual : \n",
      "[0.00166667] \n",
      "\n",
      "* rank : \n",
      "3 \n",
      "\n",
      "* singular value : \n",
      "[3.35753997 1.15123198 0.6337115 ] \n",
      "\n"
     ]
    }
   ],
   "source": [
    "# 최소제곱법으로 회귀계수 구하기(방정식 개수와 해의 개수가 다를 때)\n",
    "\n",
    "x = np.array([[1, 1, 0], [0, 1, 1], [1, 1, 1], [1, 1, 2]])\n",
    "print(\"* x :\")\n",
    "print(x, \"\\n\")\n",
    "\n",
    "y = np.array([[2], [2], [3], [4.1]])\n",
    "print(\"* y :\")\n",
    "print(y ,\"\\n\")\n",
    "\n",
    "coefficient, resid, rank, s = np.linalg.lstsq(x, y)\n",
    "\n",
    "print(\"* coefficient : \")\n",
    "print(coefficient, \"\\n\")\n",
    "\n",
    "print(\"* residual : \")\n",
    "print(resid, \"\\n\")\n",
    "\n",
    "print(\"* rank : \")\n",
    "print(rank, \"\\n\")\n",
    "\n",
    "print(\"* singular value : \")\n",
    "print(s, \"\\n\")"
   ]
  },
  {
   "cell_type": "markdown",
   "metadata": {},
   "source": [
    "## np.linalg.lstsq() return :\n",
    "\n",
    "* coefficient : Least-squares solution\n",
    "* residual : Sums of squared residuals\n",
    "* rank : Rank of feature matrix\n",
    "* singular value : Singular values of feature matrix"
   ]
  },
  {
   "cell_type": "code",
   "execution_count": null,
   "metadata": {},
   "outputs": [],
   "source": [
    "# 주어진 세 벡터간의 코사인거리(1 - 코사인유사도) 구하기\n",
    "\n",
    "a = np.array([[4],[5],[2],[2]])\n",
    "b = np.array([[4],[0],[2],[0]])\n",
    "c = np.array([[2],[2],[0],[1]])\n",
    "\n",
    "a_b_cosDistance = 1 - (int(a.T @ b) / (np.linalg.norm(a)*np.linalg.norm(b)))\n",
    "print(a_b_cosDistance)\n",
    "\n",
    "a_c_cosDistance = 1 - (int(a.T@c) / (np.linalg.norm(a) * np.linalg.norm(c)))\n",
    "print(a_c_cosDistance)\n",
    "\n",
    "b_c_cosDistance = 1 - (int(b.T@c) / (np.linalg.norm(b) * np.linalg.norm(c)))\n",
    "print(b_c_cosDistance)"
   ]
  }
 ],
 "metadata": {
  "kernelspec": {
   "display_name": "Python 3",
   "language": "python",
   "name": "python3"
  },
  "language_info": {
   "codemirror_mode": {
    "name": "ipython",
    "version": 3
   },
   "file_extension": ".py",
   "mimetype": "text/x-python",
   "name": "python",
   "nbconvert_exporter": "python",
   "pygments_lexer": "ipython3",
   "version": "3.7.1"
  }
 },
 "nbformat": 4,
 "nbformat_minor": 2
}
