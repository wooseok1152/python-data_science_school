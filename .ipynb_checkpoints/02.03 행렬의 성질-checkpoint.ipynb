{
 "cells": [
  {
   "cell_type": "markdown",
   "metadata": {
    "school_cell_uuid": "01916f7e1d69497b81c751bb830992d6"
   },
   "source": [
    "## 2.3 행렬의 성질"
   ]
  },
  {
   "cell_type": "markdown",
   "metadata": {
    "school_cell_uuid": "0c46fd981d47430ca9fa33a747863b33"
   },
   "source": [
    "행렬은 여러 개의 숫자로 이루어져 있으므로 실수처럼 부호나 크기를 정의하기 어렵다. 하지만 부호/크기와 유사한 개념은 정의할 수 있다. 여기에서는 이러한 개념을 살펴본다."
   ]
  },
  {
   "cell_type": "markdown",
   "metadata": {
    "school_cell_uuid": "87f78070f97b4aacae02821c45bde239"
   },
   "source": [
    "###  정부호와 준정부호"
   ]
  },
  {
   "cell_type": "markdown",
   "metadata": {
    "school_cell_uuid": "5ab47f01ef6d4af6a182ddf90d6104fd"
   },
   "source": [
    "영 벡터가 아닌 모든 벡터 $x$에 대해 다음 부등식이 성립하면 행렬 $A$가 **양의 정부호(positive definite)**라고 한다.\n",
    "\n",
    "$$ \n",
    "\\begin{align}\n",
    "x^T A x > 0  \n",
    "\\tag{2.3.1}\n",
    "\\end{align}\n",
    "$$\n",
    "\n",
    "만약 이 식이 등호를 포함한다면 **양의 준정부호(positive semi-definite)**라고 한다.\n",
    "\n",
    "$$ \n",
    "\\begin{align}\n",
    "x^T A x \\geq 0  \n",
    "\\tag{2.3.2}\n",
    "\\end{align}\n",
    "$$\n",
    "\n",
    "위 방법에 따르면 모든 행렬에 대해 양의 정부호와 준정부호를 정의할 수 있지만 보통 대칭행렬에 대해서만 정의한다. \n",
    "\n",
    "예를 들어 항등행렬(identity matrix) $I$는 양의 정부호다. 다음 식에서 벡터 $x$가 영벡터(zeros-vector)가 아니라는 점에 주의한다.\n",
    "\n",
    "$$ \n",
    "\\begin{align}\n",
    "x^T I x = \n",
    "\\begin{bmatrix}\n",
    "x_1 & x_2 & \\cdots & x_N\n",
    "\\end{bmatrix}\n",
    "\\begin{bmatrix}\n",
    "1&0&\\cdots&0\\\\\n",
    "0&1&\\cdots&0\\\\\n",
    "\\vdots&\\vdots&\\ddots&\\vdots\\\\\n",
    "0&0&\\cdots&1\\\\\n",
    "\\end{bmatrix}\n",
    "\\begin{bmatrix}\n",
    "x_1 \\\\ x_2 \\\\ \\vdots \\\\ x_N\n",
    "\\end{bmatrix}\n",
    "= x_1^2 + x_2^2 + \\cdots + x_N^2 > 0 \n",
    "\\tag{2.3.3}\n",
    "\\end{align}\n",
    "$$\n",
    "\n",
    "다음과 같은 행렬도 양의 정부호다.\n",
    "\n",
    "$$ \n",
    "\\begin{align}\n",
    "A = \\begin{bmatrix} 2&-1&0\\\\-1&2&-1\\\\0&-1&2 \\end{bmatrix} \n",
    "\\tag{2.3.4}\n",
    "\\end{align}\n",
    "$$\n",
    "\n",
    "이는 다음처럼 증명할 수 있다.\n",
    "\n",
    "모든 벡터 $x^T = [x_1 \\; x_2 \\; x_3]$에 대해 \n",
    "\n",
    "$$ \n",
    "\\begin{align}\n",
    "\\begin{aligned} \n",
    "x^TA x \n",
    "&= \n",
    "\\begin{bmatrix} x_1 & x_2 & x_3 \\end{bmatrix} \n",
    "\\begin{bmatrix} 2&-1&0\\\\-1&2&-1\\\\0&-1&2 \\end{bmatrix}  \n",
    "\\begin{bmatrix} x_1\\\\x_2\\\\x_3 \\end{bmatrix} \\\\\n",
    "&= \n",
    "\\begin{bmatrix} (2x_1-x_2)&(-x_1+2x_2-x_3)&(-x_2+2x_3) \\end{bmatrix} \n",
    "\\begin{bmatrix} x_1\\\\x_2\\\\x_3 \\end{bmatrix} \\\\\n",
    "&= 2{x_1}^2 - 2x_1x_2 + 2{x_2}^2 - 2x_2x_3 + 2{x_3}^2 \\\\\n",
    "&= {x_1}^2+(x_1 - x_2)^{2} + (x_2 - x_3)^{2}+{x_3}^2 \n",
    "\\end{aligned}\n",
    "\\tag{2.3.5}\n",
    "\\end{align}\n",
    "$$\n",
    "\n",
    "이 성립한다. 그리고 이 값은 제곱의 합으로 이루어졌으므로 $x$가 영벡터인 경우($x_1 = x_2 = x_3 = 0$)를 제외하고는 항상 0보다 크다.\n",
    "\n",
    "$$ \n",
    "\\begin{align}\n",
    "{x_1}^2+(x_1 - x_2)^{2} + (x_2 - x_3)^{2}+{x_3}^2  > 0  \n",
    "\\tag{2.3.6}\n",
    "\\end{align}\n",
    "$$"
   ]
  },
  {
   "cell_type": "markdown",
   "metadata": {
    "bootstrap": {
     "panel": {
      "class": "panel-default"
     }
    },
    "school_cell_uuid": "7fc6a53d8bcf408382f1cf2c339162bf"
   },
   "source": [
    "#### 연습 문제 2.3.1\n",
    "\n",
    "다음 행렬이 양의 정부호인지 양의 준정부호인지 혹은 어떤 것에도 해당되지 않는지 판단하라.\n",
    "\n",
    "$$ \n",
    "\\begin{align}\n",
    "\\begin{bmatrix} 1 & 1 \\\\ 1 & 1 \\end{bmatrix} \n",
    "\\tag{2.3.7}\n",
    "\\end{align}\n",
    "$$"
   ]
  },
  {
   "cell_type": "markdown",
   "metadata": {
    "school_cell_uuid": "c52b225e5428461f99f45cdc196ba062"
   },
   "source": [
    "행렬의 부호와 마찬가지로 행렬 크기를 정의하는 것도 어려운 일이다. 하나의 행렬에 대해 실수 하나를 대응시키는 개념의 **놈(norm)**, **대각합(trace)**, **행렬식(determinant)**이란 연산은 크기와 유사한 개념이다."
   ]
  },
  {
   "cell_type": "markdown",
   "metadata": {
    "school_cell_uuid": "b0e1102eff274b52a4d2766601e2fb20"
   },
   "source": [
    "### 행렬 놈"
   ]
  },
  {
   "cell_type": "markdown",
   "metadata": {
    "school_cell_uuid": "829b7c3c2f1e41698fb0d7933303fc06"
   },
   "source": [
    "행렬의 **놈(norm)**은 행렬 $A$에 대해 다음 식으로 정의되는 숫자다. 보통 $\\Vert A \\Vert_p$로 표기한다. 이 식에서 $a_{ij}$는 행렬 $A$의 $i$번째 행, $j$번째 열의 원소다. 행렬의 놈에도 여러 정의가 있는데 여기에서는 요소별 행렬 놈(entrywise matrix norm)의 정의를 따른다. \n",
    "\n",
    "$$ \n",
    "\\begin{align}\n",
    "\\Vert A \\Vert_p = \\left( \\sum_{i=1}^N \\sum_{j=1}^M |a_{ij}|^p \\right)^{1/p}  \n",
    "\\tag{2.3.8}\n",
    "\\end{align}\n",
    "$$\n",
    "\n",
    "$p$는 보통 1, 2 또는 무한대($\\infty$)가 사용되는데 이 중 $p=2$인 경우가 가장 많이 쓰이므로 $p$값 표시가 없는 경우는 $p=2$인 놈이라고 생각하면 된다.\n",
    "$p=2$인 놈은 **프로베니우스 놈(Frobenius norm)**이라고 불리며 $\\Vert A \\Vert_F$이라고 표기하기도 한다.\n",
    "\n",
    "$$ \n",
    "\\begin{align}\n",
    "\\Vert A \\Vert = \\Vert A \\Vert_2 = \\Vert A \\Vert_F = \\sqrt{\\sum_{i=1}^N \\sum_{j=1}^M a_{ij}^2}  \n",
    "\\tag{2.3.9}\n",
    "\\end{align}\n",
    "$$\n",
    "\n",
    "놈의 정의에서 **놈은 항상 0보다 같거나 크다**는 것을 알 수 있다.\n",
    "\n",
    "놈은 모든 크기의 행렬에 대해서 정의할 수 있으므로 벡터에 대해서도 정의할 수 있다. \n",
    "벡터의 놈에서 중요한 성질은 **벡터의 놈의 제곱이 벡터의 제곱합과 같다**는 것이다.\n",
    "\n",
    "$$ \n",
    "\\begin{align}\n",
    "\\Vert x \\Vert^2 = \\sum_{i=1}^N x_{i}^2 = x^Tx  \n",
    "\\tag{2.3.10}\n",
    "\\end{align}\n",
    "$$\n",
    "\n",
    "놈은 0 또는 양수이므로 놈의 제곱이 가장 작을 때 놈도 가장 작아진다. 따라서 **놈을 최소화하는 것은 벡터의 제곱합을 최소화하는 것**과 같다.\n",
    "\n",
    "넘파이에서는 linalg 서브패키지의 `norm()` 명령으로 행렬의 놈을 계산할 수 있다. "
   ]
  },
  {
   "cell_type": "code",
   "execution_count": 1,
   "metadata": {
    "school_cell_uuid": "902fbfabbf434200865b213510ef4892"
   },
   "outputs": [
    {
     "data": {
      "text/plain": [
       "array([[-4, -3, -2],\n",
       "       [-1,  0,  1],\n",
       "       [ 2,  3,  4]])"
      ]
     },
     "execution_count": 1,
     "metadata": {},
     "output_type": "execute_result"
    }
   ],
   "source": [
    "import numpy as np\n",
    "\n",
    "A = (np.arange(9) - 4).reshape((3, 3))\n",
    "A"
   ]
  },
  {
   "cell_type": "code",
   "execution_count": 2,
   "metadata": {
    "school_cell_uuid": "8e2fb2cd0c2b4cfe8af5d464625c32ae"
   },
   "outputs": [
    {
     "data": {
      "text/plain": [
       "7.745966692414834"
      ]
     },
     "execution_count": 2,
     "metadata": {},
     "output_type": "execute_result"
    }
   ],
   "source": [
    "np.linalg.norm(A)"
   ]
  },
  {
   "cell_type": "markdown",
   "metadata": {
    "bootstrap": {
     "panel": {
      "class": "panel-default"
     }
    },
    "school_cell_uuid": "7fc6a53d8bcf408382f1cf2c339162bf"
   },
   "source": [
    "#### 연습 문제 2.3.2\n",
    "\n",
    "행렬 $A$, $(A \\in \\mathbf{R}^{N \\times M})$의 놈의 제곱 $\\Vert A \\Vert^2$이 그 행렬을 이루는 행 벡터 $r_i$의 놈의 제곱의 합 또는 열 벡터 $c_i$의 놈의 제곱의 합과 같음을 증명하라.\n",
    "\n",
    "$$ \n",
    "\\begin{align}\n",
    "\\Vert A \\Vert^2 = \\sum_{i=1}^N \\Vert r_i \\Vert^2  = \\sum_{j=1}^M \\Vert c_j \\Vert^2  \n",
    "\\tag{2.3.11}\n",
    "\\end{align}\n",
    "$$"
   ]
  },
  {
   "cell_type": "markdown",
   "metadata": {},
   "source": [
    "사실 위에서 쓴 놈의 공식은 공식적인 정의가 아니다. 정확한 놈의 정의는 다음 4가지 성질이 성립하는 행렬 연산을 말한다. 이러한 연산이 여러 개 존재하기 때문에 놈의 정의도 다양하다. \n",
    "\n",
    "* 놈의 값은 0이상이다. 영행렬일 때만 놈의 값이 0이 된다.\n",
    "\n",
    "$$\n",
    "\\begin{align}\n",
    "\\|A\\|\\ge 0\n",
    "\\tag{2.3.12}\n",
    "\\end{align}\n",
    "$$\n",
    "\n",
    "* 행렬에 스칼라를 곱하면 놈의 값도 그 스칼라의 절대값을 곱한 것과 같다.\n",
    "\n",
    "$$\n",
    "\\begin{align}\n",
    "\\|\\alpha A\\|=|\\alpha| \\|A\\|\n",
    "\\tag{2.3.13}\n",
    "\\end{align}\n",
    "$$\n",
    "\n",
    "* 행렬의 합의 놈은 각 행렬의 놈의 합보다 작거나 같다.\n",
    "\n",
    "$$\n",
    "\\begin{align}\n",
    "\\|A+B\\| \\le \\|A\\|+\\|B\\|\n",
    "\\tag{2.3.14}\n",
    "\\end{align}\n",
    "$$\n",
    "\n",
    "* 정방행렬의 곱의 놈은 각 정방행렬의 놈의 곱보다 작거나 같다.\n",
    "\n",
    "$$\n",
    "\\begin{align}\n",
    "\\|AB\\| \\le \\|A\\|\\|B\\|\n",
    "\\tag{2.3.15}\n",
    "\\end{align}\n",
    "$$\n"
   ]
  },
  {
   "cell_type": "markdown",
   "metadata": {
    "school_cell_uuid": "452701e5ef804f4db62872fe7af559ec"
   },
   "source": [
    "### 대각합"
   ]
  },
  {
   "cell_type": "markdown",
   "metadata": {
    "school_cell_uuid": "6db9f620dffa4698b5e6736869df7223"
   },
   "source": [
    "**대각합(trace)**은 정방행렬에 대해서만 정의되며 다음처럼 대각원소의 합으로 계산된다.\n",
    "\n",
    "$$ \n",
    "\\begin{align}\n",
    "\\text{tr}(A) = a_{11} + a_{22} + \\dots + a_{NN}=\\sum_{i=1}^{N} a_{ii}\n",
    "\\tag{2.3.16}\n",
    "\\end{align}\n",
    "$$\n",
    "\n",
    "예를 들어 $N$차원 항등행렬(identity matrix)의 대각합은 $N$이다.\n",
    "\n",
    "$$ \n",
    "\\begin{align}\n",
    "\\text{tr}(I_N) = N \n",
    "\\tag{2.3.17}\n",
    "\\end{align}\n",
    "$$\n",
    "\n",
    "대각합을 구할 때는 절댓값을 취하거나 제곱을 하지 않기 때문에 대각합의 값은 놈과 달리 **음수가 될 수도 있다.**\n",
    "\n",
    "대각합은 다음과 같은 성질이 있다. 아래의 식에서 $c$는 스칼라이고 $A, B, C$는 행렬이다.\n",
    "\n",
    "* 스칼라를 곱하면 대각합은 스칼라와 원래의 대각합의 곱이다.\n",
    "\n",
    "$$ \n",
    "\\begin{align}\n",
    "\\text{tr} (cA) = c\\;\\text{tr} (A)  \n",
    "\\tag{2.3.18}\n",
    "\\end{align}\n",
    "$$\n",
    "\n",
    "* 전치연산을 해도 대각합이 달라지지 않는다.\n",
    "\n",
    "$$ \n",
    "\\begin{align}\n",
    "\\text{tr} (A^T) = \\text{tr} (A)  \n",
    "\\tag{2.3.19}\n",
    "\\end{align}\n",
    "$$\n",
    "\n",
    "* 두 행렬의 합의 대각합은 두 행렬의 대각합의 합이다.\n",
    "\n",
    "$$ \n",
    "\\begin{align}\n",
    "\\text{tr} (A + B) = \\text{tr} (A) + \\text{tr} (B)  \n",
    "\\tag{2.3.20}\n",
    "\\end{align}\n",
    "$$\n",
    "\n",
    "* 두 행렬의 곱의 대각합은 행렬의 순서를 바꾸어도 달라지지 않는다.\n",
    "\n",
    "$$ \n",
    "\\begin{align}\n",
    "\\text{tr} (AB) = \\text{tr} (BA)  \n",
    "\\tag{2.3.21}\n",
    "\\end{align}\n",
    "$$\n",
    "\n",
    "* 세 행렬의 곱의 대각합은 다음과 같이 순서를 순환시켜도 달라지지 않는다.\n",
    "\n",
    "$$ \n",
    "\\begin{align}\n",
    "\\text{tr} (ABC) = \\text{tr} (BCA) = \\text{tr} (CAB)  \n",
    "\\tag{2.3.22}\n",
    "\\end{align}\n",
    "$$\n",
    "\n",
    "마지막 식은 곱셈에서 순서가 바뀌어도 대각합이 같다는 것을 이용하여 증명할 수 있다.\n",
    "\n",
    "$$\n",
    "\\begin{align}\n",
    "\\text{tr} ((AB)C) = \\text{tr} (C(AB)) = \\text{tr} ((CA)B) = \\text{tr} (B(CA)) \n",
    "\\tag{2.3.23}\n",
    "\\end{align}\n",
    "$$\n",
    "\n",
    "특히 마지막 식은 **트레이스 트릭(trace trick)**이라고 하여 이차 형식(quadratic form)의 미분을 구하는 데 유용하게 사용된다. 이 두 식에서는 $A, B, C$가 각각 정방행렬일 필요는 없다. 최종적으로 대각합을 구하는 행렬만 정방행렬이기만 하면 된다.\n",
    "\n",
    "이차 형식의 트레이스 트릭 공식은 다음과 같다.\n",
    "\n",
    "$$ \n",
    "\\begin{align}\n",
    "x^TAx = \\text{tr}(x^TAx) = \\text{tr}(Axx^T)  = \\text{tr}(xx^TA)  \n",
    "\\tag{2.3.24}\n",
    "\\end{align}\n",
    "$$\n",
    "\n",
    "이 식은 원래의 트레이스 트릭 식의 $A$, $B$, $C$ 에 각각 $x^T$, $A$, $x$를 대입한 것이다. 이차 형식은 스칼라값이기 때문에 대각합을 취해도 원래의 값과 같다.\n",
    "\n",
    "넘파이에서는 `trace()` 명령으로 대각합을 계산할 수 있다. "
   ]
  },
  {
   "cell_type": "code",
   "execution_count": 3,
   "metadata": {
    "school_cell_uuid": "ba74f2d8ff1f4017b574685f2d3f2a33"
   },
   "outputs": [
    {
     "data": {
      "text/plain": [
       "3.0"
      ]
     },
     "execution_count": 3,
     "metadata": {},
     "output_type": "execute_result"
    }
   ],
   "source": [
    "np.trace(np.eye(3))"
   ]
  },
  {
   "cell_type": "markdown",
   "metadata": {
    "bootstrap": {
     "panel": {
      "class": "panel-default"
     }
    },
    "school_cell_uuid": "7fc6a53d8bcf408382f1cf2c339162bf"
   },
   "source": [
    "#### 연습 문제 2.3.3\n",
    "\n",
    "$x$, $A$가 각각 크기가 2 인 벡터, 크기가 2x2 인 정방행렬일 때 이차 형식의 트레이스 트릭이 성립함을 보인다."
   ]
  },
  {
   "cell_type": "markdown",
   "metadata": {
    "bootstrap": {
     "panel": {
      "class": "panel-default"
     }
    },
    "school_cell_uuid": "7fc6a53d8bcf408382f1cf2c339162bf"
   },
   "source": [
    "#### 연습 문제 2.3.4\n",
    "\n",
    "$N \\times M$ 행렬 $X$에 대해 다음 식을 증명하라. \n",
    "\n",
    "$$ \n",
    "\\begin{align}\n",
    "\\text{tr}(X(X^TX)^{-1}X^T) = M \n",
    "\\tag{2.3.25}\n",
    "\\end{align}\n",
    "$$\n",
    "\n",
    "위 식에서 $(X^TX)^{-1}$은 $X^TX$의 역행렬(inverse matrix)로 $X^TX$와 곱하면 항등행렬이 되는 행렬이다. 역행렬에 대해서는 나중에 자세히 공부한다.\n",
    "\n",
    "$$ \n",
    "\\begin{align}\n",
    "(X^TX)^{-1}X^TX = X^TX(X^TX)^{-1} = I \n",
    "\\tag{2.3.26}\n",
    "\\end{align}\n",
    "$$"
   ]
  },
  {
   "cell_type": "markdown",
   "metadata": {
    "bootstrap": {
     "panel": {
      "class": "panel-default"
     }
    },
    "school_cell_uuid": "7fc6a53d8bcf408382f1cf2c339162bf"
   },
   "source": [
    "#### 연습 문제 2.3.5\n",
    "\n",
    "행렬 $A \\, (A \\in \\mathbf{R}^{2 \\times 2})$의 놈의 제곱 $\\Vert A \\Vert^2$이 다음과 같음을 증명하라.\n",
    "\n",
    "$$ \n",
    "\\begin{align}\n",
    "\\Vert A \\Vert^2 = \\text{tr}(A^TA)  \n",
    "\\tag{2.3.27}\n",
    "\\end{align}\n",
    "$$"
   ]
  },
  {
   "cell_type": "markdown",
   "metadata": {
    "school_cell_uuid": "e792da6449ed4ea3b25d4a33f0662255"
   },
   "source": [
    "### 행렬식"
   ]
  },
  {
   "cell_type": "markdown",
   "metadata": {
    "school_cell_uuid": "6a26440495474669979e33688da94eac"
   },
   "source": [
    "정방행렬 $A$의 **행렬식(determinant)**은 $\\text{det}(A)$, $\\text{det}A$,  또는 $|A|$라는 기호로 표기한다.\n",
    "\n",
    "\n",
    "행렬식은 다음처럼 재귀적인 방법으로 정의된다. \n",
    "\n",
    "우선 행렬 $A$가 $1\\times 1$ 즉 스칼라인 경우에는 행렬식이 자기 자신의 값이 된다.\n",
    "\n",
    "$$\n",
    "\\begin{align}\n",
    "\\det \\left( \\begin{bmatrix}a\\end{bmatrix} \\right) = a  \n",
    "\\tag{2.3.28}\n",
    "\\end{align}\n",
    "$$\n",
    "\n",
    "행렬 $A$가 스칼라가 아니면 **여인수 전개(cofactor expansion)**라고 불리는 다음 식을 이용하여 계산한다. 이 식에서 $a_{i,j}$는 $A$의 $i$행, $j$열 원소이고 $i_0$(또는 $j_0$)는 계산하는 사람이 임의로 선택한 행번호(또는 열번호)이다.\n",
    "\n",
    "$$ \n",
    "\\begin{align}\n",
    "\\det(A) = \\sum_{i=1}^N \\left\\{ (-1)^{i+j_0}M_{i,j_0} \\right\\} a_{i,j_0}  \n",
    "\\tag{2.3.29}\n",
    "\\end{align}\n",
    "$$\n",
    "\n",
    "또는 \n",
    "\n",
    "$$ \n",
    "\\begin{align}\n",
    "\\det(A) = \\sum_{j=1}^N \\left\\{ (-1)^{i_0+j} M_{i_0,j} \\right\\} a_{i_0,j} \n",
    "\\tag{2.3.30}\n",
    "\\end{align}\n",
    "$$\n",
    "\n",
    "위에서 '또는'이라고 한 이유는 두 식 중 아무거나 써도 같은 결과가 나오기 때문이다.\n",
    "즉, 행렬에서 임의의 행 $i_0$ 하나를 선택하거나 임의의 열 $j_0$ 하나를 선택한 다음 이 값에 가중치 $(-1)^{i+j_0}M_{i,j_0}$ 또는 $ (-1)^{i_0+j} M_{i_0,j}$를 곱하여 더한 것이다. \n",
    "\n",
    "가중치로 사용된 $M_{i,j}$는 **마이너(minor, 소행렬식)**라고 하며 정방행렬 $A$ 에서 $i$행과 $j$열을 지워서 얻어진 (원래의 행렬보다 크기가 1만큼 작은) 행렬의 행렬식이다. \n",
    "\n",
    "마이너값도 행렬식이므로 마찬가지로 위의 정의를 이용하여 계산한다. 이처럼 점점 크기가 작은 행렬의 행렬식을 구하다 보면 스칼라인 행렬이 나오게 되는데 행렬식의 값이 자기 자신이 된다. 따라서 행렬식을 구하는 방법은 **재귀적(recursive)**이다.\n",
    "\n",
    "마이너에 $(-1)^{i+j}$를 곱한 값 $(-1)^{i+j}M_{i,j}$을 **여인수(cofactor)**라고 하며 $C_{i,j}$로 표기한다. \n",
    "\n",
    "$$ \n",
    "\\begin{align}\n",
    "C_{i,j} = (-1)^{i+j}M_{i,j}  \n",
    "\\tag{2.3.31}\n",
    "\\end{align}\n",
    "$$\n",
    "\n",
    "여인수를 사용하여 위 여인수 전개식을 다시 표현하면 다음과 같다.\n",
    "\n",
    "$$ \n",
    "\\begin{align}\n",
    "\\det(A) = \\sum_{i=1}^N C_{i,j_0} a_{i,j_0}  =  \\sum_{j=1}^N C_{i_0,j} a_{i_0,j}  \n",
    "\\tag{2.3.32}\n",
    "\\end{align}\n",
    "$$\n",
    "\n",
    "예를 들어 다음과 같은 행렬을 생각해보자.\n",
    "\n",
    "$$\n",
    "\\begin{align}\n",
    "\\begin{bmatrix}\n",
    "1&2&3\\\\\n",
    "4&5&6\\\\\n",
    "7&8&9\\\\\n",
    "\\end{bmatrix}\n",
    "\\tag{2.3.33}\n",
    "\\end{align}\n",
    "$$\n",
    "\n",
    "여기에서 임의의 행 또는 열을 선택한다. 행이든 열이든 상관없다. \n",
    "\n",
    "만약 첫 번째 열을 선택했다고 하면($j_0=1$), 이 행렬의 행렬식은 다음처럼 계산한다.\n",
    "\n",
    "$$ \n",
    "\\begin{align}\n",
    "\\begin{aligned}\n",
    "\\det(A) \n",
    "&= \\left\\{ (-1)^{1+1}M_{1,1} \\right\\} a_{1,1} +  \\left\\{ (-1)^{2+1}M_{2,1} \\right\\} a_{2,1} +  \\left\\{ (-1)^{3+1}M_{3,1} \\right\\} a_{3,1} \\\\\n",
    "&= M_{1,1} a_{1,1} - M_{2,1} a_{2,1} + M_{3,1} a_{3,1} \\\\\n",
    "&= M_{1,1} -  M_{2,1} \\cdot 4 + M_{3,1} \\cdot 7\n",
    "\\end{aligned}\n",
    "\\tag{2.3.34}\n",
    "\\end{align}\n",
    "$$\n",
    "\n",
    "이때 마이너값 $M_{1,1}$, $M_{2,1}$, $M_{3,1}$는 각각 다음과 같은 행렬의 행렬식이다.\n",
    "\n",
    "$M_{1,1}$은 원래의 행렬에서 $1$번째 행과 $1$번째 열을 지워서 만들어진 행렬의 행렬식이다.\n",
    "\n",
    "$$ \n",
    "\\begin{align}\n",
    "\\begin{aligned}\n",
    "\\begin{bmatrix}\n",
    "\\cancel{1}&\\cancel{2}&\\cancel{3}\\\\\n",
    "\\cancel{4}&5&6\\\\\n",
    "\\cancel{7}&8&9\\\\\n",
    "\\end{bmatrix}\n",
    "\\;\\; \\rightarrow \\;\\;\n",
    "M_{1,1} = \\det \\left( \\begin{bmatrix}5&6\\\\8&9\\end{bmatrix} \\right) \n",
    "\\end{aligned}\n",
    "\\tag{2.3.35}\n",
    "\\end{align}\n",
    "$$\n",
    "\n",
    "$M_{2,1}$은 원래의 행렬에서 $2$번째 행과 $1$번째 열을 지워서 만들어진 행렬의 행렬식이다.\n",
    "\n",
    "$$ \n",
    "\\begin{align}\n",
    "\\begin{aligned}\n",
    "\\begin{bmatrix}\n",
    "\\cancel{1}&2&3\\\\\n",
    "\\cancel{4}&\\cancel{5}&\\cancel{6}\\\\\n",
    "\\cancel{7}&8&9\\\\\n",
    "\\end{bmatrix}\n",
    "\\;\\; \\rightarrow \\;\\;\n",
    "M_{2,1} = \\det \\left( \\begin{bmatrix}2&3\\\\8&9\\end{bmatrix} \\right) \n",
    "\\end{aligned}\n",
    "\\tag{2.3.36}\n",
    "\\end{align}\n",
    "$$\n",
    "\n",
    "$M_{3,1}$은 원래의 행렬에서 $3$번째 행과 $1$번째 열을 지워서 만들어진 행렬의 행렬식이다.\n",
    "\n",
    "$$ \n",
    "\\begin{align}\n",
    "\\begin{aligned}\n",
    "\\begin{bmatrix}\n",
    "\\cancel{1}&2&3\\\\\n",
    "\\cancel{4}&5&6\\\\\n",
    "\\cancel{7}&\\cancel{8}&\\cancel{9}\\\\\n",
    "\\end{bmatrix}\n",
    "\\;\\; \\rightarrow \\;\\;\n",
    "M_{3,1} = \\det \\left( \\begin{bmatrix}2&3\\\\5&6\\end{bmatrix} \\right) \n",
    "\\end{aligned}\n",
    "\\tag{2.3.37}\n",
    "\\end{align}\n",
    "$$\n",
    "\n",
    "이 마이너값 $M_{1,1}$, $M_{2,1}$, $M_{3,1}$은 마찬가지로 여인수 공식을 이용해서 계산할 수 있다. \n",
    "\n",
    "예를 들어 $M_{1,1}$을 구하는 데 있어 첫 번째 행을 선택하기로 했다고 하자($i_0=1$), 그럼 여인수 전개식은 다음과 같아진다.\n",
    "\n",
    "$$\n",
    "\\begin{align}\n",
    "M_{1,1}\n",
    "= \\left\\{ (-1)^{1+1}M'_{1,1} \\right\\} a'_{1,1} +  \\left\\{ (-1)^{2+1}M'_{1,2} \\right\\} a'_{1,2}\n",
    "\\tag{2.3.38}\n",
    "\\end{align}\n",
    "$$\n",
    "\n",
    "$$ \n",
    "\\begin{align}\n",
    "\\begin{aligned}\n",
    "\\begin{bmatrix}\n",
    "\\cancel{5}&\\cancel{6}\\\\\n",
    "\\cancel{8}&9\n",
    "\\end{bmatrix}\n",
    "\\;\\; \\rightarrow \\;\\;\n",
    "M'_{1,1} = \\det([9]) = 9\n",
    "\\end{aligned}\n",
    "\\tag{2.3.39}\n",
    "\\end{align}\n",
    "$$\n",
    "\n",
    "$$ \n",
    "\\begin{align}\n",
    "\\begin{aligned}\n",
    "\\begin{bmatrix}\n",
    "\\cancel{5}&\\cancel{6}\\\\\n",
    "8&\\cancel{9}\n",
    "\\end{bmatrix}\n",
    "\\;\\; \\rightarrow \\;\\;\n",
    "M'_{1,2} = \\det([8]) = 8\n",
    "\\end{aligned}\n",
    "\\tag{2.3.40}\n",
    "\\end{align}\n",
    "$$\n",
    "\n",
    "$$\n",
    "\\begin{align}\n",
    "M_{1,1} = 9 \\cdot 5 - 8 \\cdot 6 = -3 \n",
    "\\tag{2.3.41}\n",
    "\\end{align}\n",
    "$$\n",
    "\n",
    "마찬가지 방법으로\n",
    "\n",
    "$$\n",
    "\\begin{align}\n",
    "M_{2,1} = -6\n",
    "\\tag{2.3.42}\n",
    "\\end{align}\n",
    "$$\n",
    "\n",
    "$$\n",
    "\\begin{align}\n",
    "M_{3,1} = -3 \n",
    "\\tag{2.3.43}\n",
    "\\end{align}\n",
    "$$\n",
    "\n",
    "가 되고 원래의 행렬식의 값은 \n",
    "\n",
    "$$\n",
    "\\begin{align}\n",
    "\\det(A) = -3 - (-6)\\cdot 4 + (-3) \\cdot 7 = 0\n",
    "\\tag{2.3.44}\n",
    "\\end{align}\n",
    "$$\n",
    "\n",
    "넘파이에서는 linalg 서브패키지의 `det()` 명령으로 행렬식을 계산할 수 있다.  "
   ]
  },
  {
   "cell_type": "code",
   "execution_count": 4,
   "metadata": {
    "school_cell_uuid": "55a6814c2ce34fd99fa08299c82f2229"
   },
   "outputs": [
    {
     "data": {
      "text/plain": [
       "-9.51619735392994e-16"
      ]
     },
     "execution_count": 4,
     "metadata": {},
     "output_type": "execute_result"
    }
   ],
   "source": [
    "A = np.array([[1, 2, 3], [4, 5, 6], [7, 8, 9]])\n",
    "np.linalg.det(A)"
   ]
  },
  {
   "cell_type": "markdown",
   "metadata": {
    "school_cell_uuid": "c424dc5de05b447b89bbb2cbe88af993"
   },
   "source": [
    "위의 정의를 사용하면 크기가 2x2, 3x3인 정방행렬의 행렬식의 값은 다음 공식으로 계산할 수 있다.\n",
    "\n",
    "* 2×2 행렬의 행렬식\n",
    "\n",
    "$$\n",
    "\\begin{align}\n",
    "\\det \\left( \\begin{bmatrix}a&b\\\\c&d\\end{bmatrix} \\right) = ad-bc\n",
    "\\tag{2.3.45}\n",
    "\\end{align}\n",
    "$$\n",
    "\n",
    "* 3×3 행렬의 행렬식\n",
    "\n",
    "$$\n",
    "\\begin{align}\n",
    "\\det \\left( \\begin{bmatrix}a&b&c\\\\d&e&f\\\\g&h&i\\end{bmatrix} \\right) =aei+bfg+cdh-ceg-bdi-afh\n",
    "\\tag{2.3.46}\n",
    "\\end{align}\n",
    "$$\n",
    " \n",
    "\n",
    "행렬식의 값도 대각합과 마찬가지로 **음수가 될 수 있다.**"
   ]
  },
  {
   "cell_type": "markdown",
   "metadata": {
    "bootstrap": {
     "panel": {
      "class": "panel-default"
     }
    },
    "school_cell_uuid": "7fc6a53d8bcf408382f1cf2c339162bf"
   },
   "source": [
    "#### 연습 문제 2.3.6\n",
    "\n",
    "행렬식의 정의를 사용하여 2x2 행렬과 3x3 행렬의 행렬식이 각각 위와 같이 된다는 것을 증명하라."
   ]
  },
  {
   "cell_type": "markdown",
   "metadata": {
    "school_cell_uuid": "8595cdfbccdb4dd4a2a55c72213edc32"
   },
   "source": [
    "행렬식은 다음과 같은 성질을 만족한다.\n",
    "\n",
    "* 전치 행렬의 행렬식은 원래의 행렬의 행렬식과 같다. \n",
    "\n",
    "$$ \n",
    "\\begin{align}\n",
    "\\det(A^{T}) = \\det(A)  \n",
    "\\tag{2.3.47}\n",
    "\\end{align}\n",
    "$$\n",
    "\n",
    "\n",
    "* 항등 행렬의 행렬식은 1이다.\n",
    "\n",
    "$$\n",
    "\\begin{align}\n",
    "\\det(I) = 1  \n",
    "\\tag{2.3.48}\n",
    "\\end{align}\n",
    "$$\n",
    "\n",
    "\n",
    "* 두 행렬의 곱의 행렬식은 각 행렬의 행렬식의 곱과 같다. \n",
    "\n",
    "$$\n",
    "\\begin{align}\n",
    "\\det(AB) = \\det(A)\\det(B)  \n",
    "\\tag{2.3.49}\n",
    "\\end{align}\n",
    "$$\n",
    "\n",
    "\n",
    "* **역행렬** $A^{-1}$은 원래의 행렬 $A$와 다음 관계를 만족하는 정방행렬을 말한다. $I$는 항등 행렬(identity matrix)이다.\n",
    "\n",
    "$$ \n",
    "\\begin{align}\n",
    "A^{-1} A = A A^{-1} = I  \n",
    "\\tag{2.3.50}\n",
    "\\end{align}\n",
    "$$\n",
    "\n",
    "\n",
    "* 역행렬의 행렬식은 원래의 행렬의  행렬식의 역수와 같다. \n",
    "\n",
    "$$ \n",
    "\\begin{align}\n",
    "\\det(A^{-1}) = \\dfrac{1}{\\det(A)}  \n",
    "\\tag{2.3.51}\n",
    "\\end{align}\n",
    "$$\n",
    "\n",
    "\n",
    "위 식은 역행렬의 정의와 여인수 전개식을 사용하여 증명할 수 있다.\n",
    "\n",
    "$$ \n",
    "\\begin{align}\n",
    "\\det(A) \\det(A^{-1}) = \\det{I} = 1 \n",
    "\\tag{2.3.52}\n",
    "\\end{align}\n",
    "$$\n",
    "\n"
   ]
  },
  {
   "cell_type": "markdown",
   "metadata": {
    "bootstrap": {
     "panel": {
      "class": "panel-default"
     }
    },
    "school_cell_uuid": "7fc6a53d8bcf408382f1cf2c339162bf"
   },
   "source": [
    "#### 연습 문제 2.3.7\n",
    "\n",
    "다음 행렬이 양의 정부호인지, 양의 준정부호인지 혹은 두가지 중 어느것도 아닌지 판단하라. 그리고 행렬의 대각합과 행렬식을 구하라.\n",
    "\n",
    "(1)\n",
    "\n",
    "$$\n",
    "\\begin{align}\n",
    "\\begin{bmatrix} \n",
    "2 & -1 & 0 \\\\ -1 & 2 & -1 \\\\ 0 & -1 & 2 \n",
    "\\end{bmatrix} \n",
    "\\tag{2.3.53}\n",
    "\\end{align}\n",
    "$$\n",
    "\n",
    "(2)\n",
    "\n",
    "$$\n",
    "\\begin{align}\n",
    "\\begin{bmatrix} \n",
    "1 & 2 \\\\ 3 & 4\n",
    "\\end{bmatrix} \n",
    "\\tag{2.3.54}\n",
    "\\end{align}\n",
    "$$\n"
   ]
  }
 ],
 "metadata": {
  "celltoolbar": "Edit Metadata",
  "kernelspec": {
   "display_name": "Python 3",
   "language": "python",
   "name": "python3"
  },
  "language_info": {
   "codemirror_mode": {
    "name": "ipython",
    "version": 3
   },
   "file_extension": ".py",
   "mimetype": "text/x-python",
   "name": "python",
   "nbconvert_exporter": "python",
   "pygments_lexer": "ipython3",
   "version": "3.7.1"
  },
  "toc": {
   "base_numbering": 1,
   "nav_menu": {},
   "number_sections": false,
   "sideBar": true,
   "skip_h1_title": false,
   "title_cell": "Table of Contents",
   "title_sidebar": "Contents",
   "toc_cell": false,
   "toc_position": {},
   "toc_section_display": true,
   "toc_window_display": false
  }
 },
 "nbformat": 4,
 "nbformat_minor": 4
}
