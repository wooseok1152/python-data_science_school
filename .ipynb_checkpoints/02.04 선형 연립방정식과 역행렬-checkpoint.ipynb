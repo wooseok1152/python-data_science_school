{
 "cells": [
  {
   "cell_type": "markdown",
   "metadata": {
    "school_cell_uuid": "2b122ed65394470faafd57b03e46dd1d"
   },
   "source": [
    "## 2.4 선형 연립방정식과 역행렬"
   ]
  },
  {
   "cell_type": "markdown",
   "metadata": {
    "school_cell_uuid": "0f566d20727b4fd180f33155ca6c07c3"
   },
   "source": [
    "선형 예측모형은 입력 데이터 벡터와 가중치 벡터의 내적으로 계산된 예측값이 실제 출력 데이터와 유사한 값을 출력하도록 하는 모형이다. 그럼 올바른 가중치 벡터는 어떻게 구할 수 있을까? 여기에서는 연립방정식과 역행렬을 이용하여 선형 예측모형의 가중치 벡터를 구하는 방법을 알아본다."
   ]
  },
  {
   "cell_type": "markdown",
   "metadata": {
    "school_cell_uuid": "a36da57e7904462fa89e9c4adb1c4e5c"
   },
   "source": [
    "### 선형 연립방정식"
   ]
  },
  {
   "cell_type": "markdown",
   "metadata": {
    "school_cell_uuid": "094df8daf2c94bf8a0bebd39a51fb826"
   },
   "source": [
    "복수의 미지수를 포함하는 복수의 선형 방정식을 **선형 연립방정식(system of linear equations)** 또는 연립일차방정식이라고 한다. \n",
    "\n",
    "다음은 3개의 미지수와 3개의 선형 방정식을 가지는 선형 연립방정식의 한 예다.\n",
    "\n",
    "$$\n",
    "\\begin{align}\n",
    "\\begin{matrix}\n",
    "x_1 & + & x_2 &   &     & = & 2  \\\\\n",
    "    &   & x_2 & + & x_3 & = & 2  \\\\\n",
    "x_1 & + & x_2 & + & x_3 & = & 3  \\\\\n",
    "\\end{matrix}\n",
    "\\tag{2.4.1}\n",
    "\\end{align}\n",
    "$$\n",
    "\n",
    "$x_1, x_2, \\cdots, x_M$ 이라는 $M$ 개의 미지수를 가지는 $N$개의 선형 연립방정식은 일반적으로 다음과 같은 형태가 된다. 이 식에서 $a$와 $b$는 방정식의 계수다.\n",
    "\n",
    "$$\n",
    "\\begin{align}\n",
    "\\begin{matrix}\n",
    "a_{11} x_1 & + \\;& a_{12} x_2   &\\; + \\cdots + \\;& a_{1M} x_M &\\; = \\;& b_1 \\\\\n",
    "a_{21} x_1 & + \\;& a_{22} x_2   &\\; + \\cdots + \\;& a_{2M} x_M &\\; = \\;& b_2 \\\\\n",
    "\\vdots\\;\\;\\; &   & \\vdots\\;\\;\\; &                & \\vdots\\;\\;\\; &     & \\;\\vdots \\\\\n",
    "a_{N1} x_1 & + \\;& a_{N2} x_2   &\\; + \\cdots + \\;& a_{NM} x_M &\\; = \\;& b_N \\\\\n",
    "\\end{matrix}\n",
    "\\tag{2.4.2}\n",
    "\\end{align}\n",
    "$$\n",
    "\n",
    "\n",
    "행렬과 벡터의 곱셈을 이용하면 위 선형 연립방정식은 다음처럼 간단하게 쓸 수 있다.\n",
    "\n",
    "$$\n",
    "\\begin{align}\n",
    "\\begin{bmatrix}\n",
    "a_{11} & a_{12} & \\cdots & a_{1M} \\\\\n",
    "a_{21} & a_{22} & \\cdots & a_{2M} \\\\\n",
    "\\vdots & \\vdots & \\ddots & \\vdots \\\\\n",
    "a_{N1} & a_{N2} & \\cdots & a_{NM} \\\\\n",
    "\\end{bmatrix}\n",
    "\\begin{bmatrix}\n",
    "x_1 \\\\ x_2 \\\\ \\vdots \\\\ x_M\n",
    "\\end{bmatrix}\n",
    "=\n",
    "\\begin{bmatrix}\n",
    "b_1 \\\\ b_2 \\\\ \\vdots \\\\ b_N\n",
    "\\end{bmatrix}\n",
    "\\tag{2.4.3}\n",
    "\\end{align}\n",
    "$$\n",
    "\n",
    "이 식에서\n",
    "\n",
    "$$\n",
    "\\begin{align}\n",
    "A = \n",
    "\\begin{bmatrix}\n",
    "a_{11} & a_{12} & \\cdots & a_{1M} \\\\\n",
    "a_{21} & a_{22} & \\cdots & a_{2M} \\\\\n",
    "\\vdots & \\vdots & \\ddots & \\vdots \\\\\n",
    "a_{N1} & a_{N2} & \\cdots & a_{NM} \\\\\n",
    "\\end{bmatrix}\n",
    ", \\;\\;\n",
    "x = \n",
    "\\begin{bmatrix}\n",
    "x_1 \\\\ x_2 \\\\ \\vdots \\\\ x_M\n",
    "\\end{bmatrix}\n",
    ", \\;\\;\n",
    "b=\n",
    "\\begin{bmatrix}\n",
    "b_1 \\\\ b_2 \\\\ \\vdots \\\\ b_N\n",
    "\\end{bmatrix}\n",
    "\\tag{2.4.4}\n",
    "\\end{align}\n",
    "$$\n",
    "\n",
    "라고 하면 다음처럼 쓸 수 있다.\n",
    "\n",
    "$$ \n",
    "\\begin{align}\n",
    "Ax = b  \n",
    "\\tag{2.4.5}\n",
    "\\end{align}\n",
    "$$\n",
    "\n",
    "$A, x, b$ 는 각각 **계수행렬(coefficient matrix), 미지수벡터(unknown vector), 상수벡터(constant vector)**라고 부른다.\n",
    "\n",
    "이 표현을 따르면 앞에서 예로 든 선형 연립방정식은 다음처럼 표현할 수 있다.\n",
    "\n",
    "$$\n",
    "\\begin{align}\n",
    "Ax = b\n",
    "\\tag{2.4.6}\n",
    "\\end{align}\n",
    "$$\n",
    "\n",
    "$$\n",
    "\\begin{align}\n",
    "A = \n",
    "\\begin{bmatrix}\n",
    " 1 & 1 & 0 \\\\\n",
    " 0 & 1 & 1 \\\\\n",
    " 1 & 1 & 1 \\\\\n",
    "\\end{bmatrix}, \\;\\;\\;\n",
    "x = \\begin{bmatrix}\n",
    "x_1 \\\\ x_2 \\\\ x_3\n",
    "\\end{bmatrix}, \\;\\;\\;\n",
    "b = \\begin{bmatrix}\n",
    "2 \\\\ 2 \\\\ 3\n",
    "\\end{bmatrix}\n",
    "\\tag{2.4.7}\n",
    "\\end{align}\n",
    "$$\n",
    "\n",
    "\n",
    "만약 $A, x, b$가 행렬이 아닌 스칼라 실수라면 이 방정식은 나눗셈을 사용하여 다음처럼 쉽게 풀 수도 있을 것이다.\n",
    "\n",
    "$$\n",
    "\\begin{align}\n",
    "x = \\dfrac{b}{A}\n",
    "\\tag{2.4.8}\n",
    "\\end{align}\n",
    "$$\n",
    "\n",
    "그러나 행렬에서는 나눗셈이 정의되지 않으므로 이 방법은 사용할 수 없다. 행렬에서는 나눗셈 대신 역행렬이라는 것을 사용한다."
   ]
  },
  {
   "cell_type": "markdown",
   "metadata": {
    "school_cell_uuid": "8566ab82c8754af7ab62087c56ffa579"
   },
   "source": [
    "### 역행렬"
   ]
  },
  {
   "cell_type": "markdown",
   "metadata": {
    "school_cell_uuid": "cdd3e29fbd7140ffb50f413103966a8e"
   },
   "source": [
    "정방 행렬 $A$에 대한 **역행렬(inverse matrix)** $A^{-1}$은 원래의 행렬 $A$와 다음 관계를 만족하는 정방 행렬을 말한다. $I$는 항등 행렬(identity matrix)이다.\n",
    "\n",
    "$$ \n",
    "\\begin{align}\n",
    "A^{-1} A = A A^{-1} = I  \n",
    "\\tag{2.4.9}\n",
    "\\end{align}\n",
    "$$\n",
    "\n",
    "역행렬은 항상 존재하는 것이 아니라 **행렬 A에 따라서는 존재하지 않을 수도 있다**. 역행렬이 존재하는 행렬을 **가역행렬(invertible matrix)**, 정칙행렬(regular matrix) 또는 비특이행렬(non-singular matrix)이라고 한다. 반대로 역행렬이 존재하지 않는 행렬을 비가역행렬(non-invertible matrix) 또는 **특이행렬(singular matrix)**, 퇴화행렬(degenerate matrix)이라고 한다."
   ]
  },
  {
   "cell_type": "markdown",
   "metadata": {
    "bootstrap": {
     "panel": {
      "class": "panel-default"
     }
    },
    "school_cell_uuid": "d0e0cffb46fe47e395c44c2d8b984de6"
   },
   "source": [
    "#### 연습 문제 2.4.1\n",
    "\n",
    "대각행렬의 역행렬은 각 대각성분의 역수로 이루어진 대각행렬과 같다.\n",
    "\n",
    "$$\n",
    "\\begin{align}\n",
    "\\begin{bmatrix}\n",
    "\\lambda_{1} & 0 & \\cdots & 0 \\\\\n",
    "0 & \\lambda_{2} & \\cdots & 0 \\\\\n",
    "\\vdots & \\vdots & \\ddots & \\vdots \\\\\n",
    "0 & 0 & \\cdots & \\lambda_{N} \\\\\n",
    "\\end{bmatrix}^{-1}\n",
    "=\n",
    "\\begin{bmatrix}\n",
    "\\dfrac{1}{\\lambda_{1}} & 0 & \\cdots & 0 \\\\\n",
    "0 & \\dfrac{1}{\\lambda_{2}} & \\cdots & 0 \\\\\n",
    "\\vdots & \\vdots & \\ddots & \\vdots \\\\\n",
    "0 & 0 & \\cdots & \\dfrac{1}{\\lambda_{N}} \\\\\n",
    "\\end{bmatrix}\n",
    "\\tag{2.4.10}\n",
    "\\end{align}\n",
    "$$\n",
    "\n",
    "$N=3$일 때 위 식을 증명하라."
   ]
  },
  {
   "cell_type": "markdown",
   "metadata": {
    "school_cell_uuid": "90917773200c44e890be12fe4536ccdd"
   },
   "source": [
    "### 역행렬의 성질"
   ]
  },
  {
   "cell_type": "markdown",
   "metadata": {
    "school_cell_uuid": "d2de9de3c10b4f7bb0734d4e9e046f5e"
   },
   "source": [
    "역행렬은 다음 성질을 만족한다. 이 식에서 행렬 $A$, $B$, $C$는 모두 각각 역행렬 $A^{-1}$, $B^{-1}$, $C^{-1}$이 존재한다고 가정한다. \n",
    "\n",
    "* 전치 행렬의 역행렬은 역행렬의 전치 행렬과 같다. 따라서 대칭 행렬의 역행렬도 대칭 행렬이다.\n",
    "\n",
    "$$ \n",
    "\\begin{align}\n",
    "(A^{T})^{-1} = (A^{-1})^{T}  \n",
    "\\tag{2.4.11}\n",
    "\\end{align}\n",
    "$$\n",
    "\n",
    "* 두 개 이상의 정방 행렬의 곱은 같은 크기의 정방 행렬이 되는데 이러한 행렬의 곱의 역행렬은 다음 성질이 성립한다.\n",
    "\n",
    "$$ \n",
    "\\begin{align}\n",
    "(AB)^{-1} = B^{-1} A^{-1}  \n",
    "\\tag{2.4.12}\n",
    "\\end{align}\n",
    "$$\n",
    "\n",
    "$$ \n",
    "\\begin{align}\n",
    "(ABC)^{-1} = C^{-1} B^{-1} A^{-1}  \n",
    "\\tag{2.4.13}\n",
    "\\end{align}\n",
    "$$\n"
   ]
  },
  {
   "cell_type": "markdown",
   "metadata": {
    "school_cell_uuid": "eb0c9ada6bc74b02b978ab9ed6d1673b"
   },
   "source": [
    "### 역행렬의 계산"
   ]
  },
  {
   "cell_type": "markdown",
   "metadata": {
    "school_cell_uuid": "6cb938467b9545ef8f4956fb2be071d8"
   },
   "source": [
    "역행렬은 행렬식을 이용하여 다음처럼 계산할 수 있다. 증명은 생략한다.\n",
    "\n",
    "$$ \n",
    "\\begin{align}\n",
    "A^{-1} = \\dfrac{1}{\\det (A)} C^T = \\dfrac{1}{\\det (A)} \n",
    "\\begin{bmatrix}\n",
    "C_{1,1} & \\cdots & C_{N,1}  \\\\\n",
    "\\vdots  & \\ddots & \\vdots   \\\\\n",
    "C_{1,N} & \\cdots & C_{N,N}  \\\\\n",
    "\\end{bmatrix}\n",
    "\\tag{2.4.14}\n",
    "\\end{align}\n",
    "$$\n",
    "\n",
    "이 식에서 $C_{i,j}$는 $A$의 ${i,j}$번째 원소에 대해 정의한 코팩터(cofactor)다.\n",
    "\n",
    "코팩터로 이루어진 행렬 $C$을 **여인수행렬(matrix of cofactors, 또는 cofactor matrix, comatrix)**이라고 한다. 또 여인수행렬의 전치행렬 $C^T$를 **어드조인트행렬**(**adjoint matrix, adjugate matrix**, 수반행렬)이라고 하며 **$\\text{adj}(A)$**로 표기하기도 한다.\n",
    "\n",
    "위 식에서 $\\det(A)=0$이면 역수가 존재하지 않으므로 **역행렬은 행렬식이 0이 아닌 경우에만 존재한다**는 것을 알 수 있다."
   ]
  },
  {
   "cell_type": "markdown",
   "metadata": {
    "bootstrap": {
     "panel": {
      "class": "panel-default"
     }
    },
    "school_cell_uuid": "d0e0cffb46fe47e395c44c2d8b984de6"
   },
   "source": [
    "#### 연습 문제 2.4.2\n",
    "\n",
    "코팩터 식을 사용하여 다음 공식을 증명하라.\n",
    "\n",
    "$$\n",
    "\\begin{align}\n",
    "\\begin{bmatrix} \n",
    "a_{11} & a_{12} \\\\\n",
    "a_{21} & a_{22}  \n",
    "\\end{bmatrix}^{-1}\n",
    "=\n",
    "\\dfrac{1}{a_{11}a_{22} - a_{12}a_{21}}\n",
    "\\begin{bmatrix} \n",
    "a_{22} & -a_{12} \\\\\n",
    "-a_{21} & a_{11}  \n",
    "\\end{bmatrix}\n",
    "\\tag{2.4.15}\n",
    "\\end{align}\n",
    "$$"
   ]
  },
  {
   "cell_type": "markdown",
   "metadata": {
    "bootstrap": {
     "panel": {
      "class": "panel-default"
     }
    },
    "school_cell_uuid": "d0e0cffb46fe47e395c44c2d8b984de6"
   },
   "source": [
    "#### 연습 문제 2.4.3\n",
    "\n",
    "다음 역행렬을 계산하라.\n",
    "\n",
    "(1)\n",
    "$$\n",
    "\\begin{align}\n",
    "\\begin{bmatrix} \n",
    "2 & 0 \\\\\n",
    "0 & 1  \n",
    "\\end{bmatrix}^{-1}\n",
    "\\tag{2.4.16}\n",
    "\\end{align}\n",
    "$$\n",
    "\n",
    "\n",
    "(2)\n",
    "$$\n",
    "\\begin{align}\n",
    "\\begin{bmatrix} \n",
    "\\dfrac{1}{\\sqrt{2}} & -\\dfrac{1}{\\sqrt{2}} \\\\\n",
    "\\dfrac{1}{\\sqrt{2}} &  \\dfrac{1}{\\sqrt{2}} \n",
    "\\end{bmatrix}^{-1}\n",
    "\\tag{2.4.17}\n",
    "\\end{align}\n",
    "$$\n",
    "\n",
    "\n",
    "(3)\n",
    "$$\n",
    "\\begin{align}\n",
    "\\begin{bmatrix}\n",
    "\\dfrac{3}{\\sqrt{13}} & -\\dfrac{1}{\\sqrt{2}} \\\\\n",
    "\\dfrac{2}{\\sqrt{13}} &  \\dfrac{1}{\\sqrt{2}}\n",
    "\\end{bmatrix}^{-1}\n",
    "\\tag{2.4.18}\n",
    "\\end{align}\n",
    "$$\n",
    "\n",
    "\n",
    "(4)\n",
    "$$\n",
    "\\begin{align}\n",
    "\\begin{bmatrix}\n",
    " 1 & 1 & 0 \\\\\n",
    " 0 & 1 & 1 \\\\\n",
    " 1 & 1 & 1 \\\\\n",
    "\\end{bmatrix}^{-1}\n",
    "\\tag{2.4.19}\n",
    "\\end{align}\n",
    "$$"
   ]
  },
  {
   "cell_type": "markdown",
   "metadata": {
    "bootstrap": {
     "panel": {
      "class": "panel-default"
     }
    },
    "school_cell_uuid": "d0e0cffb46fe47e395c44c2d8b984de6"
   },
   "source": [
    "#### 연습 문제 2.4.4\n",
    "\n",
    "두 정방행렬 $A,B$에 대해서 $AB = I$이면 $BA= I$임을 증명하라.\n",
    "\n",
    "$$\n",
    "\\begin{align}\n",
    "AB = I \\;\\; \\rightarrow \\;\\; BA = I\n",
    "\\tag{2.4.20}\n",
    "\\end{align}\n",
    "$$"
   ]
  },
  {
   "cell_type": "markdown",
   "metadata": {},
   "source": [
    "### 역행렬에 대한 정리"
   ]
  },
  {
   "cell_type": "markdown",
   "metadata": {},
   "source": [
    "역행렬에 대한 몇 가지 정리를 알아두면 도움이 된다."
   ]
  },
  {
   "cell_type": "markdown",
   "metadata": {},
   "source": [
    "#### 셔먼-모리슨(Sherman–Morrison) 공식"
   ]
  },
  {
   "cell_type": "markdown",
   "metadata": {},
   "source": [
    "정방행렬 $A$와 벡터 $u, v$에 대해 다음 공식이 성립한다.\n",
    "\n",
    "$$ \n",
    "\\begin{align}\n",
    "(A+uv^T)^{-1} = A^{-1} - {A^{-1}uv^T A^{-1} \\over 1 + v^T A^{-1}u} \n",
    "\\tag{2.4.21}\n",
    "\\end{align}\n",
    "$$"
   ]
  },
  {
   "cell_type": "markdown",
   "metadata": {},
   "source": [
    "#### 우드베리(Woodbury) 공식"
   ]
  },
  {
   "cell_type": "markdown",
   "metadata": {},
   "source": [
    "정방행렬 $A$와 이에 대응하는 적절한 크기의 행렬 $U,V,C$에 대해 다음 공식이 성립한다.\n",
    "\n",
    "$$ \n",
    "\\begin{align}\n",
    "\\left(A+UCV \\right)^{-1} = A^{-1} - A^{-1}U \\left(C^{-1}+VA^{-1}U \\right)^{-1} VA^{-1} \n",
    "\\tag{2.4.22}\n",
    "\\end{align}\n",
    "$$"
   ]
  },
  {
   "cell_type": "markdown",
   "metadata": {},
   "source": [
    "#### 분할행렬의 역행렬"
   ]
  },
  {
   "cell_type": "markdown",
   "metadata": {},
   "source": [
    "4개 블록(block)으로 분할된 행렬(partitioned matrix)의 역행렬은 각 분할행렬을 이용하여 계산할 수 있다.\n",
    "\n",
    "$$ \n",
    "\\begin{align}\n",
    "\\begin{bmatrix}\n",
    "A_{11} & A_{12} \\\\\n",
    "A_{21} & A_{22} \n",
    "\\end{bmatrix}^{-1}\n",
    "=\n",
    "\\begin{bmatrix}\n",
    "A_{11}^{-1}(I + A_{12}FA_{11}^{-1}) & -A_{11}^{-1}A_{12}F \\\\\n",
    "-FA_{21}A_{11}^{-1} & F\n",
    "\\end{bmatrix}\n",
    "\\tag{2.4.23}\n",
    "\\end{align}\n",
    "$$\n",
    "\n",
    "이 식에서 $F$는 다음과 같이 주어진다.\n",
    "\n",
    "$$\n",
    "\\begin{align}\n",
    "F = (A_{22} - A_{21}A_{11}^{-1}A_{12})^{-1}\n",
    "\\tag{2.4.24}\n",
    "\\end{align}\n",
    "$$\n",
    "\n",
    "또는\n",
    "\n",
    "$$\n",
    "\\begin{align}\n",
    "F = (A_{11} - A_{12}A_{22}^{-1}A_{21})^{-1}\n",
    "\\tag{2.4.25}\n",
    "\\end{align}\n",
    "$$\n"
   ]
  },
  {
   "cell_type": "markdown",
   "metadata": {
    "school_cell_uuid": "cfe20d87a7714a7fb38322ea2f224fb6"
   },
   "source": [
    "### 넘파이를 사용한 역행렬 계산"
   ]
  },
  {
   "cell_type": "markdown",
   "metadata": {
    "school_cell_uuid": "8325b4529a8046d5afeeaa75c650b742"
   },
   "source": [
    "넘파이의 linalg 서브패키지에는 역행렬을 구하는 `inv()` 라는 명령어가 존재한다. 앞에서 예로 든 선형 연립방정식의 행렬 $A$의 역행렬은 다음처럼 구할 수 있다."
   ]
  },
  {
   "cell_type": "code",
   "execution_count": 1,
   "metadata": {
    "school_cell_uuid": "03dae528c2b44fde84943eb24636aa35"
   },
   "outputs": [
    {
     "data": {
      "text/plain": [
       "array([[1, 1, 0],\n",
       "       [0, 1, 1],\n",
       "       [1, 1, 1]])"
      ]
     },
     "execution_count": 1,
     "metadata": {},
     "output_type": "execute_result"
    }
   ],
   "source": [
    "import numpy as np\n",
    "\n",
    "A = np.array([[1, 1, 0], [0, 1, 1], [1, 1, 1]])\n",
    "A"
   ]
  },
  {
   "cell_type": "code",
   "execution_count": 2,
   "metadata": {
    "school_cell_uuid": "957d8ed805f44e91a5000657126af584"
   },
   "outputs": [
    {
     "data": {
      "text/plain": [
       "array([[ 0., -1.,  1.],\n",
       "       [ 1.,  1., -1.],\n",
       "       [-1.,  0.,  1.]])"
      ]
     },
     "execution_count": 2,
     "metadata": {},
     "output_type": "execute_result"
    }
   ],
   "source": [
    "Ainv = np.linalg.inv(A)\n",
    "Ainv"
   ]
  },
  {
   "cell_type": "markdown",
   "metadata": {
    "school_cell_uuid": "80d003de22bf40bcb4de83e748a1b64d"
   },
   "source": [
    "### 역행렬과 선형 연립방정식의 해"
   ]
  },
  {
   "cell_type": "markdown",
   "metadata": {
    "school_cell_uuid": "ae56a2b4e21c42d5abe00dbb4d23896e"
   },
   "source": [
    "선형 연립방정식에서 미지수의 수와 방정식의 수가 같다면 계수행렬 $A$는 정방행렬이 된다. 만약 행렬 $A$의 역행렬 $A^{-1}$ 이 존재한다면 역행렬의 정의로부터 선형 연립방정식의 해는 다음처럼 구할 수 있다. 행렬과 벡터의 순서에 주의하라.\n",
    "\n",
    "$$\n",
    "\\begin{align}\n",
    "Ax = b\n",
    "\\tag{2.4.26}\n",
    "\\end{align}\n",
    "$$\n",
    "\n",
    "$$\n",
    "\\begin{align}\n",
    "A^{-1}Ax = A^{-1}b\n",
    "\\tag{2.4.27}\n",
    "\\end{align}\n",
    "$$\n",
    "\n",
    "$$\n",
    "\\begin{align}\n",
    "Ix = A^{-1}b\n",
    "\\tag{2.4.28}\n",
    "\\end{align}\n",
    "$$\n",
    "\n",
    "$$ \n",
    "\\begin{align}\n",
    "x = A^{-1}b  \n",
    "\\tag{2.4.29}\n",
    "\\end{align}\n",
    "$$\n",
    "\n",
    "넘파이를 이용하여 앞에서 예로 든 선형 연립방정식의 해 $x$를 구하는 방법은 다음과 같다."
   ]
  },
  {
   "cell_type": "code",
   "execution_count": 3,
   "metadata": {
    "school_cell_uuid": "2a3cf7fc5356482a9b7f35f548e8a39f"
   },
   "outputs": [
    {
     "data": {
      "text/plain": [
       "array([[2],\n",
       "       [2],\n",
       "       [3]])"
      ]
     },
     "execution_count": 3,
     "metadata": {},
     "output_type": "execute_result"
    }
   ],
   "source": [
    "b = np.array([[2], [2], [3]])\n",
    "b"
   ]
  },
  {
   "cell_type": "code",
   "execution_count": 4,
   "metadata": {
    "school_cell_uuid": "d3998c66a793467e9be557975195c796"
   },
   "outputs": [
    {
     "data": {
      "text/plain": [
       "array([[1.],\n",
       "       [1.],\n",
       "       [1.]])"
      ]
     },
     "execution_count": 4,
     "metadata": {},
     "output_type": "execute_result"
    }
   ],
   "source": [
    "x = Ainv @ b\n",
    "x"
   ]
  },
  {
   "cell_type": "markdown",
   "metadata": {
    "school_cell_uuid": "84d5d0d1e3fe4460b126b16bd1b8536a"
   },
   "source": [
    "이 벡터를 원래의 연립방정식에 대입하여 상수벡터 $b$와 값이 일치하는지 확인해보자."
   ]
  },
  {
   "cell_type": "code",
   "execution_count": 5,
   "metadata": {
    "school_cell_uuid": "3f7280e955b44bae95a4b9c20b32c8ba"
   },
   "outputs": [
    {
     "data": {
      "text/plain": [
       "array([[0.],\n",
       "       [0.],\n",
       "       [0.]])"
      ]
     },
     "execution_count": 5,
     "metadata": {},
     "output_type": "execute_result"
    }
   ],
   "source": [
    "A @ x - b"
   ]
  },
  {
   "cell_type": "markdown",
   "metadata": {
    "school_cell_uuid": "88c91d1a5e5f4c6d80f07b6b6c82c7ab"
   },
   "source": [
    "`lstsq()` 명령은 행렬 $A$와 $b$를 모두 인수로 받고 뒤에서 설명할 최소자승문제(least square problem)의 답 `x`, 잔차제곱합(residual sum of squares) `resid`, 랭크(rank) `rank`, 특잇값(singular value) `s`를 반환한다. 미지수와 방정식의 개수가 같고 행렬 $A$의 역행렬이 존재하면 최소자승문제의 답과 선형 연립방정식의 답이 같으므로 `lstsq()` 명령으로 선형 연립방정식을 풀 수도 있다. 최소자승문제, 랭크, 특잇값에 대해서는 뒤에서 자세히 설명할 것이다. \n",
    "\n",
    "다음 코드에서 `lstsq()` 명령으로 구한 답이 `inv()` 명령으로 구한 답과 같음을 알 수 있다. "
   ]
  },
  {
   "cell_type": "code",
   "execution_count": 6,
   "metadata": {
    "school_cell_uuid": "28c7be2eab0e4df796af4d115b907a12"
   },
   "outputs": [
    {
     "data": {
      "text/plain": [
       "array([[1.],\n",
       "       [1.],\n",
       "       [1.]])"
      ]
     },
     "execution_count": 6,
     "metadata": {},
     "output_type": "execute_result"
    }
   ],
   "source": [
    "x, resid, rank, s = np.linalg.lstsq(A, b)\n",
    "x"
   ]
  },
  {
   "cell_type": "markdown",
   "metadata": {
    "school_cell_uuid": "b88083114b0248b6b78da619d5d5c259"
   },
   "source": [
    "`lstsq()` 명령을 사용하는 것이 `inv()` 명령을 사용하는 것보다 수치오차가 적고 코드도 간단하므로 선형 연립방정식의 해를 구할 때도 `lstsq()` 명령을 사용하는 것을 권장한다."
   ]
  },
  {
   "cell_type": "markdown",
   "metadata": {
    "school_cell_uuid": "bfd3b10a19c74a63b3514f127b1c5a7a"
   },
   "source": [
    "### 선형 연립방정식과 선형 예측모형"
   ]
  },
  {
   "cell_type": "markdown",
   "metadata": {
    "school_cell_uuid": "ee2f66f8f71443eeb11e3194e0eac20a"
   },
   "source": [
    "선형 예측모형의 가중치벡터를 구하는 문제는 선형 연립방정식을 푸는 것과 같다. 예를 들어 $N$개의 입력차원을 가지는 특징벡터 $N$개를 입력 데이터로 이용하고 이 입력에 대응하는 목푯값벡터를 출력하는 선형 예측모형을 생각하자.\n",
    "\n",
    "$$\n",
    "\\begin{align}\n",
    "\\begin{matrix}\n",
    "x_{11} w_1 & + \\;& x_{12} w_2   &\\; + \\cdots + \\;& x_{1N} w_N &\\; = \\;& y_1 \\\\\n",
    "x_{21} w_1 & + \\;& x_{22} w_2   &\\; + \\cdots + \\;& x_{2N} w_N &\\; = \\;& y_2 \\\\\n",
    "\\vdots\\;\\;\\; &   & \\vdots\\;\\;\\; &                & \\vdots\\;\\;\\; &     & \\;\\vdots \\\\\n",
    "x_{N1} w_1 & + \\;& x_{N2} w_2   &\\; + \\cdots + \\;& x_{NN} w_N &\\; = \\;& y_N \\\\\n",
    "\\end{matrix}\n",
    "\\tag{2.4.30}\n",
    "\\end{align}\n",
    "$$\n",
    "\n",
    "즉,\n",
    "\n",
    "$$\n",
    "\\begin{align}\n",
    "Xw = y\n",
    "\\tag{2.4.31}\n",
    "\\end{align}\n",
    "$$\n",
    "\n",
    "이 예측 모형의 가중치벡터 $w$를 찾는 것은 계수행렬이 $X$, 미지수벡터가 $w$, 상수벡터가 $y$인 선형 연립방정식의 답을 찾는 것과 같다. 그리고 만약 계수행렬, 여기에서는 특징행렬 $X$의 역행렬 $X^{-1}$이 존재하면 다음처럼 가중치벡터를 구할 수 있다.\n",
    "\n",
    "$$ \n",
    "\\begin{align}\n",
    "w = X^{-1} y  \n",
    "\\tag{2.4.32}\n",
    "\\end{align}\n",
    "$$"
   ]
  },
  {
   "cell_type": "markdown",
   "metadata": {
    "bootstrap": {
     "panel": {
      "class": "panel-default"
     }
    },
    "school_cell_uuid": "d0e0cffb46fe47e395c44c2d8b984de6"
   },
   "source": [
    "#### 연습 문제 2.4.5\n",
    "\n",
    "보스턴 집값 문제는 미국 보스턴내 각 지역(town)의 주택 가격을 그 지역의 범죄율이나 공기 오염도 등의 특징을 사용하여 예측하는 문제다. Scikit-Learn 패키지에서 임포트할 수 있다.\n",
    "보스턴 집값 문제를 선형 예측모형 $Ax=\\hat{b}$로 풀었을 때의 가중치 벡터 $x$를 구하라. 행렬과 벡터 데이터는 다음과 같이 얻을 수 있다. 여기에서는 문제를 간단하게 하기 위해 입력 데이터를 범죄율(CRIM), 공기 오염도(NOX), 방의 개수(RM), 오래된 정도(AGE)의 4종류로 제한했고 데이터도 4개만 사용했다.\n",
    "\n",
    "```\n",
    "from sklearn.datasets import load_boston\n",
    "boston = load_boston()\n",
    "X = boston.data\n",
    "y = boston.target\n",
    "A = X[:4, [0, 4, 5, 6]]  # 'CRIM', 'NOX', 'RM', 'AGE'\n",
    "b = y[:4]\n",
    "```\n",
    "\n",
    "이렇게 구한 가중치의 크기나 부호가 우리의 직관이나 경험과 일치하는지 살펴보라."
   ]
  },
  {
   "cell_type": "markdown",
   "metadata": {
    "school_cell_uuid": "4a55b74ef52e49d3bceef3d8519ec57e"
   },
   "source": [
    "### 미지수의 수와 방정식의 수"
   ]
  },
  {
   "cell_type": "markdown",
   "metadata": {
    "school_cell_uuid": "7bae01ecc57740519652cf05c7108ae6"
   },
   "source": [
    "지금까지는 미지수의 수와 방정식의 수가 같은 선형 연립방정식에 대해서만 생각했다. 그런데 만약 미지수의 수와 방정식의 수가 다르다면 어떻게 해야 할까?\n",
    "\n",
    "미지수의 수와 방정식의 수를 고려해 볼 때 연립방정식에는 다음과 같은 세 종류가 있을 수 있다.\n",
    "\n",
    "1. 방정식의 수가 미지수의 수와 같다. ($N = M$)\n",
    "2. 방정식의 수가 미지수의 수보다 적다. ($N < M$)\n",
    "3. 방정식의 수가 미지수의 수보다 많다. ($N > M$)\n",
    "\n",
    "1번의 경우, 즉 방정식의 수가 미지수의 수와 같은 경우는 앞에서 다루었다. \n",
    "\n",
    "2번의 경우, 즉 방정식의 수가 미지수의 수보다 적을 때는 무수히 많은 해가 존재할 수 있다. 예를 들어 다음 선형 연립방정식을 생각해보자. 미지수는 3개지만 방정식은 2개뿐이다.  \n",
    "\n",
    "$$\n",
    "\\begin{align}\n",
    "\\begin{matrix}\n",
    "x_1 & + & x_2 &   &     & = & 2  \\\\\n",
    "    &   & x_2 & + & x_3 & = & 2  \\\\\n",
    "\\end{matrix}\n",
    "\\tag{2.4.33}\n",
    "\\end{align}\n",
    "$$\n",
    "\n",
    "이때는 $x_2$가 어떤 값이 되더라도 $x_1 = x_3 = 2 - x_2$만 만족하면 되므로 무한히 많은 해가 존재한다. 예들 들어 다음 $x$ 벡터는 모두 위 선형 연립방정식의 해다.\n",
    "\n",
    "$$\n",
    "\\begin{align}\n",
    "x =\n",
    "\\begin{bmatrix}\n",
    "2 \\\\ 0 \\\\ 2\n",
    "\\end{bmatrix}\n",
    ",\\;\\;\n",
    "x =\n",
    "\\begin{bmatrix}\n",
    "1 \\\\ 1 \\\\ 1\n",
    "\\end{bmatrix}\n",
    ",\\;\\;\n",
    "x =\n",
    "\\begin{bmatrix}\n",
    "0 \\\\ 2 \\\\ 0\n",
    "\\end{bmatrix}\n",
    ",\\;\\;\n",
    "\\cdots\n",
    "\\tag{2.4.34}\n",
    "\\end{align}\n",
    "$$\n",
    "\n",
    "3번의 경우, 즉 방정식의 수가 미지수의 수보다 많을 때는 2번과 반대로 모든 조건을 만족하는 해가 하나도 존재할 수 없을 수 있다. 예를 들어 다음 선형 연립방정식을 생각해보자. 미지수는 3개지만 방정식은 4개다. \n",
    "\n",
    "$$\n",
    "\\begin{align}\n",
    "\\begin{matrix}\n",
    "x_1 & + & x_2 &   &     & = & 2  \\\\\n",
    "    &   & x_2 & + & x_3 & = & 2  \\\\\n",
    "x_1 & + & x_2 & + & x_3 & = & 3  \\\\\n",
    "x_1 & + & x_2 & + & 2x_3 & = & 5  \\\\\n",
    "\\end{matrix}\n",
    "\\tag{2.4.35}\n",
    "\\end{align}\n",
    "$$\n",
    "\n",
    "위의 3개 방정식을 동시에 만족하는 해는 $x_1 = x_2 = x_3 = 1$인데 이 값은 4번째 방정식을 만족하지 못한다.\n",
    "\n",
    "$$\n",
    "\\begin{align}\n",
    "x_1 + x_2 + 2x_3 = 4\n",
    "\\tag{2.4.36}\n",
    "\\end{align}\n",
    "$$\n",
    "\n",
    "따라서 4개의 방정식을 모두 만족하는 해는 존재하지 않는다.\n",
    "\n",
    "선형 예측모형을 구하는 문제는 계수행렬이 특징행렬 $X$, 미지수벡터가 가중치벡터 $w$인 선형 연립방정식 문제이다. 그런데 보통 데이터의 수는 입력차원보다 큰 경우가 많다. 예를 들어 면적, 층수, 한강이 보이는지의 여부로 집값을 결정하는 모형을 만들기 위해서 딱 3가구의 아파트 가격만 조사하는 경우는 없을 것이다. 보통은 10 가구 혹은 100 가구의 아파트 가격을 수집하여 이용하는 것이 일반적이다. 다시 말해 선형 예측모형을 구할 때는 3번과 같은 경우가 많다는 것을 알 수 있다. \n",
    "\n",
    "이때는 선형 연립방정식의 해가 존재하지 않으므로 선형 연립방정식을 푸는 방식으로는 선형 예측모형의 가중치벡터를 구할 수 없다."
   ]
  },
  {
   "cell_type": "markdown",
   "metadata": {
    "school_cell_uuid": "db5d343694e2479e8f4370e418554e19"
   },
   "source": [
    "### 최소자승문제"
   ]
  },
  {
   "cell_type": "markdown",
   "metadata": {
    "school_cell_uuid": "5eace0cf24cc4c7194aada4522ecc904"
   },
   "source": [
    "이렇게 선형 연립방정식의 해가 존재하지 않는다면 선형 예측모형은 어떻게 구할까? 모형을 구하는 것을 포기해야 하는가? 그럴 필요는 없다. 이 문제에 대한 힌트를 얻기 위해 다음과 같은 선형 연립방정식을 생각해보자.\n",
    "\n",
    "$$\n",
    "\\begin{align}\n",
    "\\begin{matrix}\n",
    "x_1 & + & x_2 &   &     & = & 2  \\\\\n",
    "    &   & x_2 & + & x_3 & = & 2  \\\\\n",
    "x_1 & + & x_2 & + & x_3 & = & 3  \\\\\n",
    "x_1 & + & x_2 & + & 2x_3 & = & 4.1  \\\\\n",
    "\\end{matrix}\n",
    "\\tag{2.4.37}\n",
    "\\end{align}\n",
    "$$\n",
    "\n",
    "위에서 보았듯이 이 선형 연립방정식의 해는 존재하지 않는다.  \n",
    "\n",
    "하지만 꼭 양변이 **정확하게 똑같지 않아도 된다면** 어떨까?\n",
    "$x_1 = x_2 = x_3 = 1$를 위 방정식에 대입하면 결과는 다음과 같다.\n",
    "\n",
    "$$\n",
    "\\begin{align}\n",
    "\\begin{matrix}\n",
    "x_1 & + & x_2 &   &     & = & 2 & &\\\\\n",
    "    &   & x_2 & + & x_3 & = & 2 & &\\\\\n",
    "x_1 & + & x_2 & + & x_3 & = & 3 & &\\\\\n",
    "x_1 & + & x_2 & + & 2x_3 & = & 4 & \\approx & 4.1\n",
    "\\end{matrix}\n",
    "\\tag{2.4.38}\n",
    "\\end{align}\n",
    "$$\n",
    "\n",
    "선형 예측모형에서 좌변을 예측값, 우변을 목푯값이라고 생각한다면 100% 정확히 예측하지는 못했지만 상당히 비슷하게 예측한 값이라고 할 수 있다. \n",
    "\n",
    "따라서 미지수의 개수보다 방정식의 개수가 많아서 선형 연립방정식으로 풀수 없는 문제는 좌변과 우변의 차이를 최소화하는 문제로 바꾸어 풀 수 있다. 앞서 예측값과 목푯값의 차이를 잔차(residual)라고 한다고 했다.\n",
    "\n",
    "$$ \n",
    "\\begin{align}\n",
    "e = Ax - b  \n",
    "\\tag{2.4.39}\n",
    "\\end{align}\n",
    "$$\n",
    "\n",
    "잔차는 벡터이므로 최소자승문제에서는 벡터의 크기 중에서 **벡터의 놈(norm)을 최소화**하는 문제를 푼다. 앞 절에서 놈을 최소화하는 것은 놈의 제곱을 최소화하는 것과 같다고 했다. 여기에서는 잔차제곱합이 놈의 제곱이 된다.\n",
    "\n",
    "$$ \n",
    "\\begin{align}\n",
    "e^Te = \\Vert e \\Vert^2 = (Ax-b)^T(Ax-b)  \n",
    "\\tag{2.4.40}\n",
    "\\end{align}\n",
    "$$\n",
    "\n",
    "이 값을 최소화하는 $x$값은 수식으로 다음처럼 표현한다.\n",
    "\n",
    "$$ \n",
    "\\begin{align}\n",
    "x = \\text{arg} \\min_x e^Te = \\text{arg} \\min_x  \\; (Ax-b)^T(Ax-b)  \n",
    "\\tag{2.4.41}\n",
    "\\end{align}\n",
    "$$\n",
    "\n",
    "위 식에서 $\\text{arg} \\min_x f(x)$는 함수 $f(x)$를 가장 작게 만드는 $x$값을 의미한다. \n",
    "이러한 문제를 **최소자승문제(least square problem)**라고 한다.\n",
    "\n",
    "$A^TA$가 항상 정방 행렬이 된다는 점을 이용하여 다음과 같이 최소 자승 문제의 답이 어떤 형태가 되는지 살펴보자. 여기에서는 답의 형태만 살펴보고 엄밀한 증명은 하지 않을 것이다.\n",
    "\n",
    "$$ \n",
    "\\begin{align}\n",
    "Ax \\approx b \n",
    "\\tag{2.4.42}\n",
    "\\end{align}\n",
    "$$\n",
    "\n",
    "이 식의 양변에 $A^T$를 곱하면 각각 $A^TAx$와 $A^Tb$ 가 된다. 이 두 개의 벡터의 값이 같다고 일단 가정하자.\n",
    "\n",
    "$$ \n",
    "\\begin{align}\n",
    "A^TAx = A^Tb \n",
    "\\tag{2.4.43}\n",
    "\\end{align}\n",
    "$$\n",
    "\n",
    "만약 정방 행렬 $A^TA$의 역행렬 $(A^TA)^{-1}$이 존재한다면\n",
    "\n",
    "$$ \n",
    "\\begin{align}\n",
    "(A^TA)^{-1}(A^TA)x = (A^TA)^{-1}A^Tb \n",
    "\\tag{2.4.44}\n",
    "\\end{align}\n",
    "$$\n",
    "\n",
    "이 식을 정리하면 다음과 같다. \n",
    "\n",
    "$$ \n",
    "\\begin{align}\n",
    "x = ((A^TA)^{-1}A^T) b  \n",
    "\\tag{2.4.45}\n",
    "\\end{align}\n",
    "$$\n",
    "\n",
    "위에서 보인 것은 수학적 증명이라고 할 수 없지만 엄밀한 수학적 증명을 통해 최소자승문제의 해를 구해도 위와 같은 결과를 얻을 수 있다. 자세한 내용은 행렬의 미분과 최적화를 공부한 뒤에 다루도록 한다.\n",
    "\n",
    "여기에서 행렬 $(A^TA)^{-1}A^T$ 를 행렬 $A$의 **의사역행렬(pseudo inverse)**이라고 하며 다음처럼 $A^{+}$ 로 표기한다. \n",
    "\n",
    "$$ \n",
    "\\begin{align}\n",
    "A^{+} = (A^TA)^{-1}A^T \n",
    "\\tag{2.4.46}\n",
    "\\end{align}\n",
    "$$\n",
    "\n",
    "$$ \n",
    "\\begin{align}\n",
    "x = A^+ b  \n",
    "\\tag{2.4.47}\n",
    "\\end{align}\n",
    "$$\n",
    "\n",
    "넘파이의 `lstsq()` 명령은 사실 이러한 최소자승문제를 푸는 명령이다.\n",
    "\n",
    "위에서 예로 든 선형 연립방정식을 넘파이를 사용하여 풀어보자."
   ]
  },
  {
   "cell_type": "code",
   "execution_count": 7,
   "metadata": {
    "school_cell_uuid": "03dae528c2b44fde84943eb24636aa35"
   },
   "outputs": [
    {
     "data": {
      "text/plain": [
       "array([[1, 1, 0],\n",
       "       [0, 1, 1],\n",
       "       [1, 1, 1],\n",
       "       [1, 1, 2]])"
      ]
     },
     "execution_count": 7,
     "metadata": {},
     "output_type": "execute_result"
    }
   ],
   "source": [
    "A = np.array([[1, 1, 0], [0, 1, 1], [1, 1, 1], [1, 1, 2]])\n",
    "A"
   ]
  },
  {
   "cell_type": "code",
   "execution_count": 8,
   "metadata": {
    "school_cell_uuid": "2a3cf7fc5356482a9b7f35f548e8a39f"
   },
   "outputs": [
    {
     "data": {
      "text/plain": [
       "array([[2. ],\n",
       "       [2. ],\n",
       "       [3. ],\n",
       "       [4.1]])"
      ]
     },
     "execution_count": 8,
     "metadata": {},
     "output_type": "execute_result"
    }
   ],
   "source": [
    "b = np.array([[2], [2], [3], [4.1]])\n",
    "b"
   ]
  },
  {
   "cell_type": "markdown",
   "metadata": {
    "school_cell_uuid": "73d67dcd78f84dd28b2c755ef7f449f4"
   },
   "source": [
    "우선 의사역행렬을 직접 계산하여 해를 구해보자."
   ]
  },
  {
   "cell_type": "code",
   "execution_count": 9,
   "metadata": {
    "school_cell_uuid": "aa77a682007f47a2b816edf7a189f604"
   },
   "outputs": [
    {
     "data": {
      "text/plain": [
       "array([[ 0.33333333, -1.        ,  0.33333333,  0.33333333],\n",
       "       [ 0.5       ,  1.        ,  0.        , -0.5       ],\n",
       "       [-0.5       ,  0.        ,  0.        ,  0.5       ]])"
      ]
     },
     "execution_count": 9,
     "metadata": {},
     "output_type": "execute_result"
    }
   ],
   "source": [
    "Apinv = np.linalg.inv(A.T @ A) @ A.T\n",
    "Apinv"
   ]
  },
  {
   "cell_type": "code",
   "execution_count": 10,
   "metadata": {
    "school_cell_uuid": "a77798c4871040da9e036aea73b0d9c6"
   },
   "outputs": [
    {
     "data": {
      "text/plain": [
       "array([[1.03333333],\n",
       "       [0.95      ],\n",
       "       [1.05      ]])"
      ]
     },
     "execution_count": 10,
     "metadata": {},
     "output_type": "execute_result"
    }
   ],
   "source": [
    "x = Apinv @ b\n",
    "x"
   ]
  },
  {
   "cell_type": "markdown",
   "metadata": {
    "school_cell_uuid": "d39fd1f096a14c71930d9528e9073efa"
   },
   "source": [
    "이 해를 이용하여 b값을 구하면 다음처럼 우변과 소수점 아래 한자리 오차내에 있는 것을 볼 수 있다."
   ]
  },
  {
   "cell_type": "code",
   "execution_count": 11,
   "metadata": {
    "school_cell_uuid": "e434374930354029962fbf535fe31294"
   },
   "outputs": [
    {
     "data": {
      "text/plain": [
       "array([[1.98333333],\n",
       "       [2.        ],\n",
       "       [3.03333333],\n",
       "       [4.08333333]])"
      ]
     },
     "execution_count": 11,
     "metadata": {},
     "output_type": "execute_result"
    }
   ],
   "source": [
    "A @ x"
   ]
  },
  {
   "cell_type": "markdown",
   "metadata": {
    "school_cell_uuid": "b7dc443c2f65400bb8183b2b530e1c57"
   },
   "source": [
    "`lstsq()` 명령으로 바로 구해도 같은 값이 나온다."
   ]
  },
  {
   "cell_type": "code",
   "execution_count": 12,
   "metadata": {
    "school_cell_uuid": "4d1e378932d9463fa667104c42524208"
   },
   "outputs": [
    {
     "data": {
      "text/plain": [
       "array([[1.03333333],\n",
       "       [0.95      ],\n",
       "       [1.05      ]])"
      ]
     },
     "execution_count": 12,
     "metadata": {},
     "output_type": "execute_result"
    }
   ],
   "source": [
    "x, resid, rank, s = np.linalg.lstsq(A, b)\n",
    "x"
   ]
  },
  {
   "cell_type": "markdown",
   "metadata": {
    "school_cell_uuid": "d004909ed4124daead8870f454d9d20d"
   },
   "source": [
    "위 코드에서 `resid`는 잔차벡터의 $e=Ax-b$의 제곱합, 즉 놈의 제곱이다."
   ]
  },
  {
   "cell_type": "code",
   "execution_count": 13,
   "metadata": {
    "school_cell_uuid": "74cc66e8dc654b18a87b633a6a691d3e"
   },
   "outputs": [
    {
     "data": {
      "text/plain": [
       "(array([0.00166667]), 0.001666666666666655)"
      ]
     },
     "execution_count": 13,
     "metadata": {},
     "output_type": "execute_result"
    }
   ],
   "source": [
    "resid, np.linalg.norm(A @ x - b) ** 2"
   ]
  },
  {
   "cell_type": "markdown",
   "metadata": {
    "bootstrap": {
     "panel": {
      "class": "panel-default"
     }
    },
    "school_cell_uuid": "d0e0cffb46fe47e395c44c2d8b984de6"
   },
   "source": [
    "#### 연습 문제 2.4.6\n",
    "\n",
    "보스턴 집값 문제를 선형 예측모형 $Xw=\\hat{y}$로 풀었을 때의 가중치벡터 $w$를 최소 자승 방법으로 구하라. 행렬과 벡터 데이터는 다음과 같이 얻을 수 있다.\n",
    "\n",
    "```\n",
    "from sklearn.datasets import load_boston\n",
    "boston = load_boston()\n",
    "X = boston.data\n",
    "y = boston.target\n",
    "```\n",
    "행렬 X의 각 열이 의미하는 바는 다음과 같다.\n",
    "\n",
    "1. CRIM: 범죄율\n",
    "2. INDUS: 비소매상업지역 면적 비율\n",
    "3. NOX: 일산화질소 농도\n",
    "4. RM: 주택당 방 수\n",
    "5. LSTAT: 인구 중 하위 계층 비율\n",
    "6. B: 인구 중 흑인 비율\n",
    "7. PTRATIO: 학생/교사 비율\n",
    "8. ZN: 25,000 평방피트를 초과 거주지역 비율\n",
    "9. CHAS: 찰스강의 경계에 위치한 경우는 1, 아니면 0\n",
    "10. AGE: 1940년 이전에 건축된 주택의 비율\n",
    "11. RAD: 방사형 고속도로까지의 거리\n",
    "12. DIS: 보스톤 직업 센터 5곳까지의 가중평균거리\n",
    "13. TAX: 재산세율\n",
    "\n",
    "이렇게 구한 가중치 벡터의 각 원소의 부호가 우리의 직관이나 경험과 일치하는지 살펴보라. 또 연습문제 2.4.5에서 구한 값과 어떻게 달라지는지 살펴보라."
   ]
  }
 ],
 "metadata": {
  "celltoolbar": "Edit Metadata",
  "kernelspec": {
   "display_name": "Python 3",
   "language": "python",
   "name": "python3"
  },
  "language_info": {
   "codemirror_mode": {
    "name": "ipython",
    "version": 3
   },
   "file_extension": ".py",
   "mimetype": "text/x-python",
   "name": "python",
   "nbconvert_exporter": "python",
   "pygments_lexer": "ipython3",
   "version": "3.7.1"
  },
  "toc": {
   "base_numbering": 1,
   "nav_menu": {},
   "number_sections": false,
   "sideBar": true,
   "skip_h1_title": false,
   "title_cell": "Table of Contents",
   "title_sidebar": "Contents",
   "toc_cell": false,
   "toc_position": {},
   "toc_section_display": true,
   "toc_window_display": false
  }
 },
 "nbformat": 4,
 "nbformat_minor": 4
}
