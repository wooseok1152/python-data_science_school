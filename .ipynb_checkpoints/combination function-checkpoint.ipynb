{
 "cells": [
  {
   "cell_type": "code",
   "execution_count": 36,
   "id": "9b464b68",
   "metadata": {},
   "outputs": [
    {
     "name": "stdout",
     "output_type": "stream",
     "text": [
      "* i : 0\n",
      "* combination : 1.0\n",
      "* mu :  1.0\n",
      "* 1 - mu : 9.5367431640625e-07\n",
      "* probability : 9.5367431640625e-07 \n",
      "\n",
      "* i : 1\n",
      "* combination : 20.0\n",
      "* mu :  0.5\n",
      "* 1 - mu : 1.9073486328125e-06\n",
      "* probability : 1.9073486328125e-05 \n",
      "\n",
      "* i : 2\n",
      "* combination : 190.0\n",
      "* mu :  0.25\n",
      "* 1 - mu : 3.814697265625e-06\n",
      "* probability : 0.0001811981201171875 \n",
      "\n",
      "* i : 3\n",
      "* combination : 1140.0\n",
      "* mu :  0.125\n",
      "* 1 - mu : 7.62939453125e-06\n",
      "* probability : 0.001087188720703125 \n",
      "\n",
      "* i : 4\n",
      "* combination : 4845.0\n",
      "* mu :  0.0625\n",
      "* 1 - mu : 1.52587890625e-05\n",
      "* probability : 0.004620552062988281 \n",
      "\n",
      "* i : 5\n",
      "* combination : 15504.0\n",
      "* mu :  0.03125\n",
      "* 1 - mu : 3.0517578125e-05\n",
      "* probability : 0.0147857666015625 \n",
      "\n",
      "* i : 6\n",
      "* combination : 38760.0\n",
      "* mu :  0.015625\n",
      "* 1 - mu : 6.103515625e-05\n",
      "* probability : 0.03696441650390625 \n",
      "\n",
      "* i : 7\n",
      "* combination : 77520.0\n",
      "* mu :  0.0078125\n",
      "* 1 - mu : 0.0001220703125\n",
      "* probability : 0.0739288330078125 \n",
      "\n",
      "* i : 8\n",
      "* combination : 125970.0\n",
      "* mu :  0.00390625\n",
      "* 1 - mu : 0.000244140625\n",
      "* probability : 0.12013435363769531 \n",
      "\n",
      "* i : 9\n",
      "* combination : 167960.0\n",
      "* mu :  0.001953125\n",
      "* 1 - mu : 0.00048828125\n",
      "* probability : 0.16017913818359375 \n",
      "\n",
      "* i : 10\n",
      "* combination : 184756.0\n",
      "* mu :  0.0009765625\n",
      "* 1 - mu : 0.0009765625\n",
      "* probability : 0.17619705200195312 \n",
      "\n",
      "***************************************************************************************\n",
      "* result : 0.5880985260009766\n",
      "* 1 - result : 0.41190147399902344\n"
     ]
    }
   ],
   "source": [
    "# nCr : n! / (r! * (n - r)!)\n",
    "\n",
    "from math import factorial\n",
    "\n",
    "result = 0\n",
    "\n",
    "for i in range(11) :\n",
    "    print(\"* i :\", i)\n",
    "    print(\"* combination :\", (factorial(20) / (factorial(i) * factorial(20 - i))))\n",
    "    print(\"* mu : \", (0.5)**i)\n",
    "    print(\"* 1 - mu :\", (0.5)**(20-i))\n",
    "    print(\"* probability :\", ((factorial(20) / (factorial(i) * factorial(20 - i))) * (0.5)**i * (0.5)**(20-i)), \"\\n\")\n",
    "    result = result + ((factorial(20) / (factorial(i) * factorial(20 - i))) * (0.5)**i * (0.5)**(20-i))\n",
    "    \n",
    "print(\"***************************************************************************************\")    \n",
    "print(\"* result :\", result)\n",
    "print(\"* 1 - result :\", 1 - result)"
   ]
  },
  {
   "cell_type": "code",
   "execution_count": 30,
   "id": "aa8fc065",
   "metadata": {},
   "outputs": [
    {
     "data": {
      "text/plain": [
       "184756.0"
      ]
     },
     "execution_count": 30,
     "metadata": {},
     "output_type": "execute_result"
    }
   ],
   "source": [
    "def combination(n, r) :\n",
    "    return factorial(n) / (factorial(r) * factorial(n - r))\n",
    "combination(20, 10)"
   ]
  }
 ],
 "metadata": {
  "kernelspec": {
   "display_name": "Python 3 (ipykernel)",
   "language": "python",
   "name": "python3"
  },
  "language_info": {
   "codemirror_mode": {
    "name": "ipython",
    "version": 3
   },
   "file_extension": ".py",
   "mimetype": "text/x-python",
   "name": "python",
   "nbconvert_exporter": "python",
   "pygments_lexer": "ipython3",
   "version": "3.7.10"
  }
 },
 "nbformat": 4,
 "nbformat_minor": 5
}
